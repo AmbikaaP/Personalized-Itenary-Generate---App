{
 "cells": [
  {
   "cell_type": "raw",
   "id": "a2b03bc4-3597-4afc-9046-77f963083db1",
   "metadata": {},
   "source": [
    "NLP RECOMMENDATION(ex:Delhi)"
   ]
  },
  {
   "cell_type": "code",
   "execution_count": null,
   "id": "29c2f5a5-3b3d-4ed9-b177-2c0b1bea7e18",
   "metadata": {},
   "outputs": [],
   "source": [
    "import pandas as pd\n",
    "from sklearn.feature_extraction.text import TfidfVectorizer\n",
    "from sklearn.metrics.pairwise import cosine_similarity"
   ]
  },
  {
   "cell_type": "code",
   "execution_count": 8,
   "id": "fd19355b-a147-47e3-83d4-75a03d9b3470",
   "metadata": {},
   "outputs": [
    {
     "name": "stdout",
     "output_type": "stream",
     "text": [
      "Recommended Places: ['Qutub Minar' 'Elephanta Caves' 'Gateway of India' 'Red Fort'\n",
      " 'Bara Imambara']\n"
     ]
    }
   ],
   "source": [
    "\n",
    "def preprocess_data(file_path):\n",
    "    df = pd.read_csv(file_path)\n",
    "    df[\"combined_features\"] = df[\"City\"] + \" \" + df[\"Type\"] + \" \" + df[\"Significance\"]\n",
    "    return df\n",
    "\n",
    "def recommend_places(user_input, df, top_n=5):\n",
    "    vectorizer = TfidfVectorizer(stop_words=\"english\")\n",
    "    tfidf_matrix = vectorizer.fit_transform(df[\"combined_features\"])\n",
    "    \n",
    "    user_vector = vectorizer.transform([user_input])\n",
    "    similarities = cosine_similarity(user_vector, tfidf_matrix).flatten()\n",
    "    recommendations = df.loc[similarities.argsort()[::-1][:top_n], \"Name\"].values\n",
    "    \n",
    "    return recommendations\n",
    "\n",
    "if __name__ == \"__main__\":\n",
    "    file_path = \"Top Indian Places to Visit.csv\"\n",
    "    df = preprocess_data(file_path)\n",
    "    user_input = \"Delhi Historical Monument\"\n",
    "    recommendations = recommend_places(user_input, df)\n",
    "    print(\"Recommended Places:\", recommendations)\n"
   ]
  },
  {
   "cell_type": "code",
   "execution_count": null,
   "id": "9e9583e9-d9ef-4ec3-a758-b7126d3c2f6a",
   "metadata": {},
   "outputs": [],
   "source": [
    "\n"
   ]
  },
  {
   "cell_type": "code",
   "execution_count": null,
   "id": "f3a6aa33-15a2-4297-a5e7-0372460f3ff3",
   "metadata": {},
   "outputs": [],
   "source": []
  },
  {
   "cell_type": "code",
   "execution_count": null,
   "id": "c2d5bc82-0d73-4dae-99aa-353c7d288539",
   "metadata": {},
   "outputs": [],
   "source": []
  },
  {
   "cell_type": "code",
   "execution_count": null,
   "id": "b7c207c8-ce0a-4c5c-a9c9-1fa0ceb607b7",
   "metadata": {},
   "outputs": [],
   "source": []
  },
  {
   "cell_type": "code",
   "execution_count": null,
   "id": "b8869fd0-8c4e-4eb1-a982-dfbfbd6f018f",
   "metadata": {},
   "outputs": [],
   "source": [
    "\n",
    "\n",
    "\n"
   ]
  },
  {
   "cell_type": "code",
   "execution_count": null,
   "id": "f29ab1d7-49b9-4709-9584-3e4efe0847c6",
   "metadata": {},
   "outputs": [],
   "source": []
  }
 ],
 "metadata": {
  "kernelspec": {
   "display_name": "Python 3 (ipykernel)",
   "language": "python",
   "name": "python3"
  },
  "language_info": {
   "codemirror_mode": {
    "name": "ipython",
    "version": 3
   },
   "file_extension": ".py",
   "mimetype": "text/x-python",
   "name": "python",
   "nbconvert_exporter": "python",
   "pygments_lexer": "ipython3",
   "version": "3.12.7"
  }
 },
 "nbformat": 4,
 "nbformat_minor": 5
}
