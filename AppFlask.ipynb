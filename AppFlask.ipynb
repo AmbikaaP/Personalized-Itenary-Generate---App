{
 "cells": [
  {
   "cell_type": "code",
   "execution_count": 7,
   "id": "ec3874f2-e40e-41e7-8dcc-b6306cf85314",
   "metadata": {},
   "outputs": [],
   "source": [
    "from flask import Flask, render_template, request\n",
    "import nbformat\n",
    "from nbconvert import HTMLExporter\n",
    "import os\n",
    "\n",
    "from flask import Flask, render_template, request\n",
    "import nbformat\n",
    "from nbconvert import HTMLExporter\n",
    "import os\n",
    "\n",
    "\n"
   ]
  },
  {
   "cell_type": "code",
   "execution_count": 8,
   "id": "3b0f2f2c-8341-4ab0-9791-e59e5ba0d69c",
   "metadata": {},
   "outputs": [
    {
     "name": "stdout",
     "output_type": "stream",
     "text": [
      " * Serving Flask app '__main__'\n",
      " * Debug mode: on\n"
     ]
    },
    {
     "name": "stderr",
     "output_type": "stream",
     "text": [
      "WARNING: This is a development server. Do not use it in a production deployment. Use a production WSGI server instead.\n",
      " * Running on http://127.0.0.1:5000\n",
      "Press CTRL+C to quit\n",
      " * Restarting with watchdog (windowsapi)\n"
     ]
    },
    {
     "ename": "SystemExit",
     "evalue": "1",
     "output_type": "error",
     "traceback": [
      "An exception has occurred, use %tb to see the full traceback.\n",
      "\u001b[1;31mSystemExit\u001b[0m\u001b[1;31m:\u001b[0m 1\n"
     ]
    },
    {
     "name": "stderr",
     "output_type": "stream",
     "text": [
      "C:\\Users\\Welcome\\anaconda3\\Lib\\site-packages\\IPython\\core\\interactiveshell.py:3585: UserWarning: To exit: use 'exit', 'quit', or Ctrl-D.\n",
      "  warn(\"To exit: use 'exit', 'quit', or Ctrl-D.\", stacklevel=1)\n"
     ]
    }
   ],
   "source": [
    "\n",
    "app = Flask(__name__)\n",
    "UPLOAD_FOLDER = \"uploads\"\n",
    "os.makedirs(UPLOAD_FOLDER, exist_ok=True)\n",
    "app.config['UPLOAD_FOLDER'] = UPLOAD_FOLDER\n",
    "\n",
    "@app.route('/', methods=['GET', 'POST'])\n",
    "def upload_file():\n",
    "    if request.method == 'POST':\n",
    "        file = request.files['file']\n",
    "        if file and file.filename.endswith('.ipynb'):\n",
    "            filepath = os.path.join(app.config['UPLOAD_FOLDER'], file.filename)\n",
    "            file.save(filepath)\n",
    "            return render_notebook(filepath)\n",
    "    return '''\n",
    "    <!doctype html>\n",
    "    <title>Upload Notebook</title>\n",
    "    <h1>Upload a Jupyter Notebook</h1>\n",
    "    <form method=post enctype=multipart/form-data>\n",
    "        <input type=file name=file>\n",
    "        <input type=submit value=Upload>\n",
    "    </form>\n",
    "    '''\n",
    "\n",
    "def render_notebook(filepath):\n",
    "    with open(filepath, 'r', encoding='utf-8') as f:\n",
    "        notebook_content = nbformat.read(f, as_version=4)\n",
    "    html_exporter = HTMLExporter()\n",
    "    body, _ = html_exporter.from_notebook_node(notebook_content)\n",
    "    return f\"\"\"\n",
    "    <!doctype html>\n",
    "    <title>Notebook Viewer</title>\n",
    "    <h1>Notebook Content</h1>\n",
    "    {body}\n",
    "    <br><a href='/'>Upload another notebook</a>\n",
    "    \"\"\"\n",
    "\n",
    "if __name__ == '__main__':\n",
    "    app.run(debug=True)\n"
   ]
  },
  {
   "cell_type": "code",
   "execution_count": null,
   "id": "9646dc0e-0d90-460f-8bff-65994a95d7df",
   "metadata": {},
   "outputs": [],
   "source": []
  },
  {
   "cell_type": "code",
   "execution_count": null,
   "id": "07008684-6666-4a9d-8eb7-ef79dfef53c3",
   "metadata": {},
   "outputs": [],
   "source": []
  }
 ],
 "metadata": {
  "kernelspec": {
   "display_name": "Python 3 (ipykernel)",
   "language": "python",
   "name": "python3"
  },
  "language_info": {
   "codemirror_mode": {
    "name": "ipython",
    "version": 3
   },
   "file_extension": ".py",
   "mimetype": "text/x-python",
   "name": "python",
   "nbconvert_exporter": "python",
   "pygments_lexer": "ipython3",
   "version": "3.12.7"
  }
 },
 "nbformat": 4,
 "nbformat_minor": 5
}
