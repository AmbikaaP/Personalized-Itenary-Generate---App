{
 "cells": [
  {
   "cell_type": "code",
   "execution_count": null,
   "id": "072b506f-a39b-4bd8-a35a-c130063f7bab",
   "metadata": {},
   "outputs": [],
   "source": []
  },
  {
   "cell_type": "code",
   "execution_count": null,
   "id": "c872f85e-4755-43f1-a635-f82349f2a1d4",
   "metadata": {},
   "outputs": [],
   "source": [
    "import pandas as pd\n",
    "from sklearn.feature_extraction.text import TfidfVectorizer\n",
    "from sklearn.metrics.pairwise import cosine_similarity\n",
    "import numpy as np"
   ]
  },
  {
   "cell_type": "code",
   "execution_count": null,
   "id": "7f245f03-3be7-434c-a392-f4130a961ef0",
   "metadata": {},
   "outputs": [],
   "source": [
    "# Load datasets\n",
    "places_df = pd.read_csv(\"Top Indian Places to Visit.csv\")\n",
    "places_df.head(5)"
   ]
  },
  {
   "cell_type": "code",
   "execution_count": null,
   "id": "de3b6061-9414-4f00-ade8-608818289910",
   "metadata": {},
   "outputs": [],
   "source": [
    "airlines_df = pd.read_csv(\"Indian Airlines.csv\")\n",
    "airlines_df.head(5)"
   ]
  },
  {
   "cell_type": "code",
   "execution_count": 53,
   "id": "7a4cc031-ffbd-4572-9478-fdf37da3a5d8",
   "metadata": {},
   "outputs": [
    {
     "name": "stdout",
     "output_type": "stream",
     "text": [
      "Index(['Unnamed: 0', 'airline', 'flight', 'source_city', 'departure_time',\n",
      "       'stops', 'arrival_time', 'destination_city', 'class', 'duration',\n",
      "       'days_left', 'price'],\n",
      "      dtype='object')\n"
     ]
    }
   ],
   "source": [
    "print(airlines_df.columns)"
   ]
  },
  {
   "cell_type": "code",
   "execution_count": 55,
   "id": "f2c638a3-960b-4b35-8e9f-cc9a47a096bf",
   "metadata": {},
   "outputs": [
    {
     "data": {
      "text/plain": [
       "<bound method NDFrame.head of          Unnamed: 0_x      Zone      State       City                    Name  \\\n",
       "0                   0  Northern      Delhi      delhi              India Gate   \n",
       "1                   0  Northern      Delhi      delhi              India Gate   \n",
       "2                   0  Northern      Delhi      delhi              India Gate   \n",
       "3                   0  Northern      Delhi      delhi              India Gate   \n",
       "4                   0  Northern      Delhi      delhi              India Gate   \n",
       "...               ...       ...        ...        ...                     ...   \n",
       "2769759           312  Southern  Telangana  hyderabad  Inorbit Mall Cyberabad   \n",
       "2769760           312  Southern  Telangana  hyderabad  Inorbit Mall Cyberabad   \n",
       "2769761           312  Southern  Telangana  hyderabad  Inorbit Mall Cyberabad   \n",
       "2769762           312  Southern  Telangana  hyderabad  Inorbit Mall Cyberabad   \n",
       "2769763           312  Southern  Telangana  hyderabad  Inorbit Mall Cyberabad   \n",
       "\n",
       "                 Type Establishment Year  time needed to visit in hrs  \\\n",
       "0        War Memorial               1921                          0.5   \n",
       "1        War Memorial               1921                          0.5   \n",
       "2        War Memorial               1921                          0.5   \n",
       "3        War Memorial               1921                          0.5   \n",
       "4        War Memorial               1921                          0.5   \n",
       "...               ...                ...                          ...   \n",
       "2769759          Mall               2004                          2.0   \n",
       "2769760          Mall               2004                          2.0   \n",
       "2769761          Mall               2004                          2.0   \n",
       "2769762          Mall               2004                          2.0   \n",
       "2769763          Mall               2004                          2.0   \n",
       "\n",
       "         Google review rating  Entrance Fee in INR  ...   flight source_city  \\\n",
       "0                         4.6                    0  ...   UK-994      Mumbai   \n",
       "1                         4.6                    0  ...   UK-910      Mumbai   \n",
       "2                         4.6                    0  ...   G8-339      Mumbai   \n",
       "3                         4.6                    0  ...  6E-6004      Mumbai   \n",
       "4                         4.6                    0  ...  6E-2077      Mumbai   \n",
       "...                       ...                  ...  ...      ...         ...   \n",
       "2769759                   4.5                    0  ...   UK-822     Chennai   \n",
       "2769760                   4.5                    0  ...   UK-826     Chennai   \n",
       "2769761                   4.5                    0  ...   UK-832     Chennai   \n",
       "2769762                   4.5                    0  ...   UK-828     Chennai   \n",
       "2769763                   4.5                    0  ...   UK-822     Chennai   \n",
       "\n",
       "        departure_time stops  arrival_time destination_city     class  \\\n",
       "0              Morning  zero     Afternoon            delhi   Economy   \n",
       "1              Evening  zero       Evening            delhi   Economy   \n",
       "2              Evening  zero         Night            delhi   Economy   \n",
       "3              Evening  zero         Night            delhi   Economy   \n",
       "4            Afternoon  zero     Afternoon            delhi   Economy   \n",
       "...                ...   ...           ...              ...       ...   \n",
       "2769759        Morning   one       Evening        hyderabad  Business   \n",
       "2769760      Afternoon   one         Night        hyderabad  Business   \n",
       "2769761  Early_Morning   one         Night        hyderabad  Business   \n",
       "2769762  Early_Morning   one       Evening        hyderabad  Business   \n",
       "2769763        Morning   one       Evening        hyderabad  Business   \n",
       "\n",
       "        duration days_left  price  \n",
       "0           2.25         1   5943  \n",
       "1           2.17         1   6048  \n",
       "2           2.17         1   5942  \n",
       "3           2.08         1   5943  \n",
       "4           2.17         1   5943  \n",
       "...          ...       ...    ...  \n",
       "2769759    10.08        49  69265  \n",
       "2769760    10.42        49  77105  \n",
       "2769761    13.83        49  79099  \n",
       "2769762    10.00        49  81585  \n",
       "2769763    10.08        49  81585  \n",
       "\n",
       "[2769764 rows x 28 columns]>"
      ]
     },
     "execution_count": 55,
     "metadata": {},
     "output_type": "execute_result"
    }
   ],
   "source": [
    "places_df['City'] = places_df['City'].str.lower()\n",
    "airlines_df['destination_city'] = airlines_df['destination_city'].str.lower()  # Use correct column name\n",
    "\n",
    "merged_df = places_df.merge(airlines_df, left_on='City', right_on='destination_city', how='inner')\n",
    "merged_df.head"
   ]
  },
  {
   "cell_type": "code",
   "execution_count": 56,
   "id": "f52bcfb2-9881-4423-a9be-f2e6c91b5604",
   "metadata": {},
   "outputs": [
    {
     "name": "stdout",
     "output_type": "stream",
     "text": [
      "Index(['Unnamed: 0_x', 'Zone', 'State', 'City', 'Name', 'Type',\n",
      "       'Establishment Year', 'time needed to visit in hrs',\n",
      "       'Google review rating', 'Entrance Fee in INR',\n",
      "       'Airport with 50km Radius', 'Weekly Off', 'Significance',\n",
      "       'DSLR Allowed', 'Number of google review in lakhs',\n",
      "       'Best Time to visit', 'Unnamed: 0_y', 'airline', 'flight',\n",
      "       'source_city', 'departure_time', 'stops', 'arrival_time',\n",
      "       'destination_city', 'class', 'duration', 'days_left', 'price'],\n",
      "      dtype='object')\n"
     ]
    }
   ],
   "source": [
    "print(merged_df.columns)"
   ]
  },
  {
   "cell_type": "code",
   "execution_count": 75,
   "id": "e8286107-2327-425a-9542-a0c44eee53a2",
   "metadata": {},
   "outputs": [
    {
     "name": "stdout",
     "output_type": "stream",
     "text": [
      "Recommended Places:\n",
      "                 Name       City           State        Type  \\\n",
      "66   Sabarmati Ashram  Ahmedabad         Gujarat  Historical   \n",
      "256    Gandikota Fort     Kadapa  Andhra Pradesh        Fort   \n",
      "139      Gwalior Fort    Gwalior  Madhya Pradesh        Fort   \n",
      "54        Fort Aguada        Goa             Goa        Fort   \n",
      "33      Golconda Fort  Hyderabad       Telangana        Fort   \n",
      "\n",
      "     Google review rating  \n",
      "66                    4.6  \n",
      "256                   4.5  \n",
      "139                   4.5  \n",
      "54                    4.2  \n",
      "33                    4.4  \n",
      "\n",
      "Recommended Flights:\n",
      "Empty DataFrame\n",
      "Columns: [airline, source_city, destination_city, departure_time, arrival_time, price]\n",
      "Index: []\n"
     ]
    }
   ],
   "source": [
    "import pandas as pd\n",
    "from sklearn.feature_extraction.text import TfidfVectorizer\n",
    "from sklearn.metrics.pairwise import cosine_similarity\n",
    "import numpy as np\n",
    "\n",
    "# Load datasets\n",
    "places_df = pd.read_csv(\"Top Indian Places to Visit.csv\")\n",
    "airlines_df = pd.read_csv(\"Indian Airlines.csv\")\n",
    "\n",
    "# Data Preprocessing: Combine relevant text features for recommendation\n",
    "places_df['combined_features'] = places_df['Type'] + \" \" + places_df['Significance'] + \" \" + places_df['Best Time to visit']\n",
    "\n",
    "# TF-IDF Vectorization\n",
    "vectorizer = TfidfVectorizer(stop_words='english')\n",
    "tfidf_matrix = vectorizer.fit_transform(places_df['combined_features'])\n",
    "\n",
    "# Function to recommend places based on user preferences\n",
    "def recommend_places(user_interest, preferred_time, budget=5000, top_n=5):\n",
    "    user_input = user_interest + \" \" + preferred_time\n",
    "    user_vector = vectorizer.transform([user_input])\n",
    "    similarity_scores = cosine_similarity(user_vector, tfidf_matrix).flatten()\n",
    "    top_indices = np.argsort(similarity_scores)[-top_n:][::-1]\n",
    "    \n",
    "    recommended_places = places_df.iloc[top_indices]\n",
    "    recommended_places = recommended_places[recommended_places['Entrance Fee in INR'] <= budget]\n",
    "    return recommended_places[['Name', 'City', 'State', 'Type', 'Google review rating']]\n",
    "\n",
    "# Function to recommend flights based on user destination and budget\n",
    "def recommend_flights(destination_city, budget=10000, top_n=3):\n",
    "    flights = airlines_df[airlines_df['destination_city'] == destination]\n",
    "    flights = flights[flights['price'] <= budget]\n",
    "    return flights.sort_values(by='price').head(top_n)[['airline', 'source_city', 'destination_city', 'departure_time', 'arrival_time', 'price']]\n",
    "\n",
    "# Example: Generate full itinerary for a user\n",
    "user_interest = \"historical sites\"\n",
    "preferred_time = \"Morning\"\n",
    "budget = 5000\n",
    "destination = \"Ahmedabad\"\n",
    "\n",
    "recommended_places = recommend_places(user_interest, preferred_time, budget)\n",
    "recommended_flights = recommend_flights(destination, budget)\n",
    "\n",
    "# Display itinerary\n",
    "print(\"Recommended Places:\")\n",
    "print(recommended_places)\n",
    "print(\"\\nRecommended Flights:\")\n",
    "print(recommended_flights)\n"
   ]
  },
  {
   "cell_type": "code",
   "execution_count": 77,
   "id": "1769a07f-da2d-47e9-8b59-b7a2d2fbe651",
   "metadata": {},
   "outputs": [
    {
     "name": "stdout",
     "output_type": "stream",
     "text": [
      "Recommended destinations for Paris: ['Tokyo', 'London', 'Barcelona']\n"
     ]
    }
   ],
   "source": [
    "# Import necessary libraries\n",
    "import pandas as pd\n",
    "from sklearn.feature_extraction.text import TfidfVectorizer\n",
    "from sklearn.metrics.pairwise import cosine_similarity\n",
    "\n",
    "# Sample dataset with destination names, descriptions, and reviews\n",
    "data = {\n",
    "    'destination': ['Paris', 'London', 'New York', 'Tokyo', 'Barcelona'],\n",
    "    'description': [\n",
    "        'The Eiffel Tower and other landmarks. Beautiful city with rich culture.',\n",
    "        'Home of Big Ben and the British Museum. Great for history lovers.',\n",
    "        'Known for Central Park, Times Square, and Statue of Liberty. A bustling city.',\n",
    "        'Famous for Mount Fuji, beautiful temples, and cherry blossoms in spring.',\n",
    "        'Known for Gaudi architecture, the Sagrada Familia, and beaches.'\n",
    "    ],\n",
    "    'reviews': [\n",
    "        'Amazing view from the Eiffel Tower. Great food and culture.',\n",
    "        'A historic city with so much to explore. Loved the museums.',\n",
    "        'A city that never sleeps. Lots of shopping, eating, and entertainment.',\n",
    "        'A peaceful city with nature and beautiful culture. A must-visit!',\n",
    "        'Stunning architecture and beaches. Worth visiting for culture lovers.'\n",
    "    ]\n",
    "}\n",
    "\n",
    "# Convert data into a pandas DataFrame\n",
    "df = pd.DataFrame(data)\n",
    "\n",
    "# Combine descriptions and reviews into one text field\n",
    "df['text'] = df['description'] + \" \" + df['reviews']\n",
    "\n",
    "# Step 1: Create a TF-IDF Vectorizer\n",
    "tfidf_vectorizer = TfidfVectorizer(stop_words='english')\n",
    "\n",
    "# Step 2: Fit and transform the combined text data to get the TF-IDF matrix\n",
    "tfidf_matrix = tfidf_vectorizer.fit_transform(df['text'])\n",
    "\n",
    "# Step 3: Calculate cosine similarity between the destinations\n",
    "cosine_sim = cosine_similarity(tfidf_matrix, tfidf_matrix)\n",
    "\n",
    "# Step 4: Function to get recommendations based on a destination name\n",
    "def get_recommendations(destination, cosine_sim=cosine_sim):\n",
    "    # Get the index of the destination\n",
    "    idx = df[df['destination'] == destination].index[0]\n",
    "    \n",
    "    # Get the pairwise similarity scores for all destinations\n",
    "    sim_scores = list(enumerate(cosine_sim[idx]))\n",
    "    \n",
    "    # Sort the destinations based on similarity score\n",
    "    sim_scores = sorted(sim_scores, key=lambda x: x[1], reverse=True)\n",
    "    \n",
    "    # Get the top 3 recommendations (excluding the first one, which is the destination itself)\n",
    "    sim_scores = sim_scores[1:4]\n",
    "    \n",
    "    # Get the destination names and similarity scores\n",
    "    recommended_destinations = [df['destination'][i[0]] for i in sim_scores]\n",
    "    \n",
    "    return recommended_destinations\n",
    "\n",
    "# Example: Get recommendations for 'Paris'\n",
    "recommended = get_recommendations('Paris')\n",
    "print(\"Recommended destinations for Paris:\", recommended)\n"
   ]
  },
  {
   "cell_type": "code",
   "execution_count": null,
   "id": "0835f52f-c935-42cd-8880-9edca6539afb",
   "metadata": {},
   "outputs": [],
   "source": [
    "\n"
   ]
  },
  {
   "cell_type": "code",
   "execution_count": null,
   "id": "9a0d99db-7b51-4870-9bea-0574b0d2bddc",
   "metadata": {},
   "outputs": [],
   "source": []
  }
 ],
 "metadata": {
  "kernelspec": {
   "display_name": "Python 3 (ipykernel)",
   "language": "python",
   "name": "python3"
  },
  "language_info": {
   "codemirror_mode": {
    "name": "ipython",
    "version": 3
   },
   "file_extension": ".py",
   "mimetype": "text/x-python",
   "name": "python",
   "nbconvert_exporter": "python",
   "pygments_lexer": "ipython3",
   "version": "3.12.7"
  }
 },
 "nbformat": 4,
 "nbformat_minor": 5
}
