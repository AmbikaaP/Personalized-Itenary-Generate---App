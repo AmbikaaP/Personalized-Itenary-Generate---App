{
 "cells": [
  {
   "cell_type": "code",
   "execution_count": 7,
   "id": "ea74db1d-b4f9-405e-8967-c6982482b5c8",
   "metadata": {},
   "outputs": [],
   "source": [
    "import pandas as  pd"
   ]
  },
  {
   "cell_type": "code",
   "execution_count": 11,
   "id": "841d4c32-efbc-4667-84d9-335441dd59be",
   "metadata": {},
   "outputs": [],
   "source": [
    "# Load the datasets\n",
    "silver = pd.read_excel(\"silver.xlsx\")\n",
    "gold = pd.read_excel(\"gold.xlsx\")\n",
    "luxury = pd.read_excel(\"luxury.xlsx\")\n",
    "platinum = pd.read_excel(\"platinum.xlsx\")"
   ]
  },
  {
   "cell_type": "code",
   "execution_count": null,
   "id": "9c56c917-1470-45d3-a2e2-63295894018b",
   "metadata": {},
   "outputs": [],
   "source": [
    "# Merge based on a common column (example: 'ID' column)\n",
    "merged_df = silver.merge(gold, on='ID', how='outer').merge(luxury, on='ID', how='outer')"
   ]
  },
  {
   "cell_type": "code",
   "execution_count": 24,
   "id": "af20ccb3-c901-405e-b69f-884e975340bf",
   "metadata": {},
   "outputs": [],
   "source": [
    "import pandas as pd"
   ]
  },
  {
   "cell_type": "code",
   "execution_count": null,
   "id": "ecdce502-3d4b-4d9e-8673-b73247e943a0",
   "metadata": {},
   "outputs": [],
   "source": [
    "# Load the datasets\n",
    "silver = pd.read_excel(\"silver.xlsx\")\n",
    "gold = pd.read_excel(\"gold.xlsx\")\n",
    "luxury = pd.read_excel(\"luxury.xlsx\")\n"
   ]
  },
  {
   "cell_type": "code",
   "execution_count": 52,
   "id": "bebe7e05-0fce-482f-9dfd-53d26d7617c4",
   "metadata": {},
   "outputs": [
    {
     "data": {
      "text/html": [
       "<div>\n",
       "<style scoped>\n",
       "    .dataframe tbody tr th:only-of-type {\n",
       "        vertical-align: middle;\n",
       "    }\n",
       "\n",
       "    .dataframe tbody tr th {\n",
       "        vertical-align: top;\n",
       "    }\n",
       "\n",
       "    .dataframe thead th {\n",
       "        text-align: right;\n",
       "    }\n",
       "</style>\n",
       "<table border=\"1\" class=\"dataframe\">\n",
       "  <thead>\n",
       "    <tr style=\"text-align: right;\">\n",
       "      <th></th>\n",
       "      <th>STATE</th>\n",
       "      <th>CITY</th>\n",
       "      <th>DAYS</th>\n",
       "      <th>NIGHT</th>\n",
       "      <th>TRANSPORT</th>\n",
       "      <th>FOOD</th>\n",
       "      <th>HOTEL</th>\n",
       "      <th>HOTEL PRICE</th>\n",
       "      <th>LONGITUDE</th>\n",
       "      <th>LATITUDE</th>\n",
       "    </tr>\n",
       "  </thead>\n",
       "  <tbody>\n",
       "    <tr>\n",
       "      <th>0</th>\n",
       "      <td>KARNATAKA</td>\n",
       "      <td>BANGLORE</td>\n",
       "      <td>2</td>\n",
       "      <td>1</td>\n",
       "      <td>Not Available</td>\n",
       "      <td>Not Available</td>\n",
       "      <td>FAB HOTEL ZEKE</td>\n",
       "      <td>1600</td>\n",
       "      <td>12.9716</td>\n",
       "      <td>77.5946</td>\n",
       "    </tr>\n",
       "  </tbody>\n",
       "</table>\n",
       "</div>"
      ],
      "text/plain": [
       "       STATE      CITY  DAYS   NIGHT       TRANSPORT           FOOD  \\\n",
       "0  KARNATAKA  BANGLORE      2       1  Not Available  Not Available   \n",
       "\n",
       "             HOTEL  HOTEL PRICE  LONGITUDE  LATITUDE  \n",
       "0  FAB HOTEL ZEKE          1600    12.9716   77.5946  "
      ]
     },
     "execution_count": 52,
     "metadata": {},
     "output_type": "execute_result"
    }
   ],
   "source": [
    "silver.head(1)"
   ]
  },
  {
   "cell_type": "code",
   "execution_count": 44,
   "id": "d2cb253f-3d6e-4171-9435-f99859f07912",
   "metadata": {},
   "outputs": [
    {
     "data": {
      "text/html": [
       "<div>\n",
       "<style scoped>\n",
       "    .dataframe tbody tr th:only-of-type {\n",
       "        vertical-align: middle;\n",
       "    }\n",
       "\n",
       "    .dataframe tbody tr th {\n",
       "        vertical-align: top;\n",
       "    }\n",
       "\n",
       "    .dataframe thead th {\n",
       "        text-align: right;\n",
       "    }\n",
       "</style>\n",
       "<table border=\"1\" class=\"dataframe\">\n",
       "  <thead>\n",
       "    <tr style=\"text-align: right;\">\n",
       "      <th></th>\n",
       "      <th>STATE</th>\n",
       "      <th>CITY</th>\n",
       "      <th>DAYS</th>\n",
       "      <th>NIGHT</th>\n",
       "      <th>HOTEL PRICE</th>\n",
       "      <th>SIGHT SEEEN</th>\n",
       "      <th>FOOD</th>\n",
       "      <th>FOOD PRICE</th>\n",
       "      <th>SIGHT SEEN DISTANCE</th>\n",
       "      <th>PRICE</th>\n",
       "      <th>TRANSPORT</th>\n",
       "      <th>LONGITUDE</th>\n",
       "      <th>LATITUDE</th>\n",
       "    </tr>\n",
       "  </thead>\n",
       "  <tbody>\n",
       "    <tr>\n",
       "      <th>0</th>\n",
       "      <td>MAHARASHTRA</td>\n",
       "      <td>MUMBAI</td>\n",
       "      <td>1.0</td>\n",
       "      <td>1</td>\n",
       "      <td>800</td>\n",
       "      <td>GATWAY OF INDIA/JUHU BEACH /TAJ HOTEL/ WORLI S...</td>\n",
       "      <td>PURAN POLI,PANEER MASALA,VADA PAV,CHICKEN SAOJ...</td>\n",
       "      <td>1000</td>\n",
       "      <td>67KM(4HOUR)</td>\n",
       "      <td>700</td>\n",
       "      <td>BUS</td>\n",
       "      <td>19.076</td>\n",
       "      <td>72.8777</td>\n",
       "    </tr>\n",
       "  </tbody>\n",
       "</table>\n",
       "</div>"
      ],
      "text/plain": [
       "        STATE    CITY   DAYS   NIGHT   HOTEL PRICE   \\\n",
       "0  MAHARASHTRA  MUMBAI    1.0       1           800   \n",
       "\n",
       "                                         SIGHT SEEEN  \\\n",
       "0  GATWAY OF INDIA/JUHU BEACH /TAJ HOTEL/ WORLI S...   \n",
       "\n",
       "                                                FOOD  FOOD PRICE  \\\n",
       "0  PURAN POLI,PANEER MASALA,VADA PAV,CHICKEN SAOJ...        1000   \n",
       "\n",
       "  SIGHT SEEN DISTANCE   PRICE  TRANSPORT  LONGITUDE  LATITUDE  \n",
       "0          67KM(4HOUR)     700       BUS     19.076   72.8777  "
      ]
     },
     "execution_count": 44,
     "metadata": {},
     "output_type": "execute_result"
    }
   ],
   "source": [
    "silver.head(1)"
   ]
  },
  {
   "cell_type": "code",
   "execution_count": 46,
   "id": "b4e3292e-b5ff-4da9-987d-c6de94814562",
   "metadata": {},
   "outputs": [
    {
     "data": {
      "text/html": [
       "<div>\n",
       "<style scoped>\n",
       "    .dataframe tbody tr th:only-of-type {\n",
       "        vertical-align: middle;\n",
       "    }\n",
       "\n",
       "    .dataframe tbody tr th {\n",
       "        vertical-align: top;\n",
       "    }\n",
       "\n",
       "    .dataframe thead th {\n",
       "        text-align: right;\n",
       "    }\n",
       "</style>\n",
       "<table border=\"1\" class=\"dataframe\">\n",
       "  <thead>\n",
       "    <tr style=\"text-align: right;\">\n",
       "      <th></th>\n",
       "      <th>STATE</th>\n",
       "      <th>CITY</th>\n",
       "      <th>DAYS</th>\n",
       "      <th>NIGHT</th>\n",
       "      <th>TRANSPORT</th>\n",
       "      <th>TRANSPORT PRICE</th>\n",
       "      <th>FOOD</th>\n",
       "      <th>FOOD PRICE</th>\n",
       "      <th>HOTEL</th>\n",
       "      <th>HOTEL PRICE</th>\n",
       "      <th>LONGIITUDE</th>\n",
       "      <th>LATITUDE</th>\n",
       "    </tr>\n",
       "  </thead>\n",
       "  <tbody>\n",
       "    <tr>\n",
       "      <th>0</th>\n",
       "      <td>MAHARASHTRA</td>\n",
       "      <td>MUMBAI</td>\n",
       "      <td>2</td>\n",
       "      <td>1</td>\n",
       "      <td>BUS</td>\n",
       "      <td>700</td>\n",
       "      <td>PURAN POLI,PANEER MASALA,VADA PAV,CHICKEN SAOJ...</td>\n",
       "      <td>2000</td>\n",
       "      <td>EMPIRE ROYALE HOTEL</td>\n",
       "      <td>1500</td>\n",
       "      <td>19.076</td>\n",
       "      <td>72.8777</td>\n",
       "    </tr>\n",
       "  </tbody>\n",
       "</table>\n",
       "</div>"
      ],
      "text/plain": [
       "         STATE    CITY  DAYS   NIGHT  TRANSPORT   TRANSPORT PRICE   \\\n",
       "0  MAHARASHTRA  MUMBAI      2       1        BUS               700   \n",
       "\n",
       "                                                FOOD  FOOD PRICE   \\\n",
       "0  PURAN POLI,PANEER MASALA,VADA PAV,CHICKEN SAOJ...         2000   \n",
       "\n",
       "                 HOTEL  HOTEL PRICE  LONGIITUDE  LATITUDE  \n",
       "0  EMPIRE ROYALE HOTEL         1500      19.076   72.8777  "
      ]
     },
     "execution_count": 46,
     "metadata": {},
     "output_type": "execute_result"
    }
   ],
   "source": [
    " gold.head(1)"
   ]
  },
  {
   "cell_type": "code",
   "execution_count": 48,
   "id": "59f915a0-3804-4580-b1d5-fb2af028d8a5",
   "metadata": {},
   "outputs": [
    {
     "data": {
      "text/html": [
       "<div>\n",
       "<style scoped>\n",
       "    .dataframe tbody tr th:only-of-type {\n",
       "        vertical-align: middle;\n",
       "    }\n",
       "\n",
       "    .dataframe tbody tr th {\n",
       "        vertical-align: top;\n",
       "    }\n",
       "\n",
       "    .dataframe thead th {\n",
       "        text-align: right;\n",
       "    }\n",
       "</style>\n",
       "<table border=\"1\" class=\"dataframe\">\n",
       "  <thead>\n",
       "    <tr style=\"text-align: right;\">\n",
       "      <th></th>\n",
       "      <th>STATE</th>\n",
       "      <th>CITY</th>\n",
       "      <th>DAYS</th>\n",
       "      <th>NIGHT</th>\n",
       "      <th>TRANSPORT</th>\n",
       "      <th>FOOD</th>\n",
       "      <th>HOTEL</th>\n",
       "      <th>HOTEL PRICE</th>\n",
       "      <th>LONGITUDE</th>\n",
       "      <th>LATITUDE</th>\n",
       "    </tr>\n",
       "  </thead>\n",
       "  <tbody>\n",
       "    <tr>\n",
       "      <th>0</th>\n",
       "      <td>KARNATAKA</td>\n",
       "      <td>BANGLORE</td>\n",
       "      <td>2</td>\n",
       "      <td>1</td>\n",
       "      <td>Not Available</td>\n",
       "      <td>Not Available</td>\n",
       "      <td>FAB HOTEL ZEKE</td>\n",
       "      <td>1600</td>\n",
       "      <td>12.9716</td>\n",
       "      <td>77.5946</td>\n",
       "    </tr>\n",
       "  </tbody>\n",
       "</table>\n",
       "</div>"
      ],
      "text/plain": [
       "       STATE      CITY  DAYS   NIGHT       TRANSPORT           FOOD  \\\n",
       "0  KARNATAKA  BANGLORE      2       1  Not Available  Not Available   \n",
       "\n",
       "             HOTEL  HOTEL PRICE  LONGITUDE  LATITUDE  \n",
       "0  FAB HOTEL ZEKE          1600    12.9716   77.5946  "
      ]
     },
     "execution_count": 48,
     "metadata": {},
     "output_type": "execute_result"
    }
   ],
   "source": [
    " luxury.head(1)"
   ]
  },
  {
   "cell_type": "code",
   "execution_count": 50,
   "id": "92d430fc-b134-4eff-89f1-8548338eb69b",
   "metadata": {},
   "outputs": [
    {
     "data": {
      "text/html": [
       "<div>\n",
       "<style scoped>\n",
       "    .dataframe tbody tr th:only-of-type {\n",
       "        vertical-align: middle;\n",
       "    }\n",
       "\n",
       "    .dataframe tbody tr th {\n",
       "        vertical-align: top;\n",
       "    }\n",
       "\n",
       "    .dataframe thead th {\n",
       "        text-align: right;\n",
       "    }\n",
       "</style>\n",
       "<table border=\"1\" class=\"dataframe\">\n",
       "  <thead>\n",
       "    <tr style=\"text-align: right;\">\n",
       "      <th></th>\n",
       "      <th>STATE</th>\n",
       "      <th>CITY</th>\n",
       "      <th>DAYS</th>\n",
       "      <th>NIGHT</th>\n",
       "      <th>TRANSPORT</th>\n",
       "      <th>FOOD</th>\n",
       "      <th>Unnamed: 6</th>\n",
       "      <th>FOOD PRICE</th>\n",
       "      <th>HOTEL</th>\n",
       "      <th>HOTEL PRICE</th>\n",
       "      <th>LONGITUDE</th>\n",
       "      <th>LATITUDE</th>\n",
       "    </tr>\n",
       "  </thead>\n",
       "  <tbody>\n",
       "    <tr>\n",
       "      <th>0</th>\n",
       "      <td>MAHARASHTRA</td>\n",
       "      <td>MUMBAI</td>\n",
       "      <td>2</td>\n",
       "      <td>1</td>\n",
       "      <td>BUS</td>\n",
       "      <td>PURAN POLI,PANEER MASALA,VADA PAV,CHICKEN SAOJ...</td>\n",
       "      <td>NaN</td>\n",
       "      <td>2000</td>\n",
       "      <td>EMPIRE ROYALE HOTEL</td>\n",
       "      <td>1500</td>\n",
       "      <td>19.076</td>\n",
       "      <td>72.877</td>\n",
       "    </tr>\n",
       "  </tbody>\n",
       "</table>\n",
       "</div>"
      ],
      "text/plain": [
       "         STATE    CITY  DAYS   NIGHT TRANSPORT  \\\n",
       "0  MAHARASHTRA  MUMBAI      2      1       BUS   \n",
       "\n",
       "                                                FOOD  Unnamed: 6  FOOD PRICE  \\\n",
       "0  PURAN POLI,PANEER MASALA,VADA PAV,CHICKEN SAOJ...         NaN        2000   \n",
       "\n",
       "                 HOTEL  HOTEL PRICE  LONGITUDE  LATITUDE  \n",
       "0  EMPIRE ROYALE HOTEL         1500     19.076    72.877  "
      ]
     },
     "execution_count": 50,
     "metadata": {},
     "output_type": "execute_result"
    }
   ],
   "source": [
    "platinum.head(1)"
   ]
  },
  {
   "cell_type": "code",
   "execution_count": 62,
   "id": "0c5f3e66-eb80-4d5c-ac9a-2adcc3ae07de",
   "metadata": {},
   "outputs": [
    {
     "data": {
      "text/html": [
       "<div>\n",
       "<style scoped>\n",
       "    .dataframe tbody tr th:only-of-type {\n",
       "        vertical-align: middle;\n",
       "    }\n",
       "\n",
       "    .dataframe tbody tr th {\n",
       "        vertical-align: top;\n",
       "    }\n",
       "\n",
       "    .dataframe thead th {\n",
       "        text-align: right;\n",
       "    }\n",
       "</style>\n",
       "<table border=\"1\" class=\"dataframe\">\n",
       "  <thead>\n",
       "    <tr style=\"text-align: right;\">\n",
       "      <th></th>\n",
       "      <th>STATE</th>\n",
       "      <th>CITY</th>\n",
       "      <th>DAYS</th>\n",
       "      <th>NIGHT</th>\n",
       "      <th>HOTEL PRICE</th>\n",
       "      <th>SIGHT SEEEN</th>\n",
       "      <th>FOOD</th>\n",
       "      <th>FOOD PRICE</th>\n",
       "      <th>SIGHT SEEN DISTANCE</th>\n",
       "      <th>PRICE</th>\n",
       "      <th>...</th>\n",
       "      <th>STATE</th>\n",
       "      <th>CITY</th>\n",
       "      <th>TRANSPORT</th>\n",
       "      <th>TRANSPORT PRICE</th>\n",
       "      <th>FOOD PRICE</th>\n",
       "      <th>HOTEL</th>\n",
       "      <th>HOTEL PRICE</th>\n",
       "      <th>LONGIITUDE</th>\n",
       "      <th>NIGHT</th>\n",
       "      <th>Unnamed: 6</th>\n",
       "    </tr>\n",
       "  </thead>\n",
       "  <tbody>\n",
       "    <tr>\n",
       "      <th>0</th>\n",
       "      <td>MAHARASHTRA</td>\n",
       "      <td>MUMBAI</td>\n",
       "      <td>1.0</td>\n",
       "      <td>1.0</td>\n",
       "      <td>800.0</td>\n",
       "      <td>GATWAY OF INDIA/JUHU BEACH /TAJ HOTEL/ WORLI S...</td>\n",
       "      <td>PURAN POLI,PANEER MASALA,VADA PAV,CHICKEN SAOJ...</td>\n",
       "      <td>1000.0</td>\n",
       "      <td>67KM(4HOUR)</td>\n",
       "      <td>700.0</td>\n",
       "      <td>...</td>\n",
       "      <td>NaN</td>\n",
       "      <td>NaN</td>\n",
       "      <td>NaN</td>\n",
       "      <td>NaN</td>\n",
       "      <td>NaN</td>\n",
       "      <td>NaN</td>\n",
       "      <td>NaN</td>\n",
       "      <td>NaN</td>\n",
       "      <td>NaN</td>\n",
       "      <td>NaN</td>\n",
       "    </tr>\n",
       "    <tr>\n",
       "      <th>1</th>\n",
       "      <td>GOA</td>\n",
       "      <td>GOA</td>\n",
       "      <td>3.0</td>\n",
       "      <td>2.0</td>\n",
       "      <td>2400.0</td>\n",
       "      <td>DUDHSAGAR WATER FALL/INMACULATE CONCEPTION/BAG...</td>\n",
       "      <td>PAPLET,COCONUT RICE,FENI,GOAN FISH KARI ,CASHN...</td>\n",
       "      <td>2000.0</td>\n",
       "      <td>177KM(5HOUR)</td>\n",
       "      <td>800.0</td>\n",
       "      <td>...</td>\n",
       "      <td>NaN</td>\n",
       "      <td>NaN</td>\n",
       "      <td>NaN</td>\n",
       "      <td>NaN</td>\n",
       "      <td>NaN</td>\n",
       "      <td>NaN</td>\n",
       "      <td>NaN</td>\n",
       "      <td>NaN</td>\n",
       "      <td>NaN</td>\n",
       "      <td>NaN</td>\n",
       "    </tr>\n",
       "  </tbody>\n",
       "</table>\n",
       "<p>2 rows × 23 columns</p>\n",
       "</div>"
      ],
      "text/plain": [
       "        STATE    CITY   DAYS   NIGHT   HOTEL PRICE   \\\n",
       "0  MAHARASHTRA  MUMBAI    1.0     1.0         800.0   \n",
       "1         GOA      GOA    3.0     2.0        2400.0   \n",
       "\n",
       "                                         SIGHT SEEEN  \\\n",
       "0  GATWAY OF INDIA/JUHU BEACH /TAJ HOTEL/ WORLI S...   \n",
       "1  DUDHSAGAR WATER FALL/INMACULATE CONCEPTION/BAG...   \n",
       "\n",
       "                                                FOOD  FOOD PRICE  \\\n",
       "0  PURAN POLI,PANEER MASALA,VADA PAV,CHICKEN SAOJ...      1000.0   \n",
       "1  PAPLET,COCONUT RICE,FENI,GOAN FISH KARI ,CASHN...      2000.0   \n",
       "\n",
       "  SIGHT SEEN DISTANCE   PRICE   ... STATE  CITY  TRANSPORT  TRANSPORT PRICE   \\\n",
       "0          67KM(4HOUR)   700.0  ...   NaN   NaN         NaN              NaN   \n",
       "1         177KM(5HOUR)   800.0  ...   NaN   NaN         NaN              NaN   \n",
       "\n",
       "  FOOD PRICE  HOTEL  HOTEL PRICE  LONGIITUDE NIGHT  Unnamed: 6  \n",
       "0         NaN   NaN          NaN         NaN   NaN         NaN  \n",
       "1         NaN   NaN          NaN         NaN   NaN         NaN  \n",
       "\n",
       "[2 rows x 23 columns]"
      ]
     },
     "execution_count": 62,
     "metadata": {},
     "output_type": "execute_result"
    }
   ],
   "source": [
    "# Concatenate all files into one DataFrame\n",
    "merged_df = pd.concat([silver, gold, luxury, platinum], ignore_index=True)\n",
    "\n",
    "# Save the merged file\n",
    "merged_df.to_excel(\"merged_output.xlsx\", index=False)\n",
    "\n",
    "# Display the first few rows of the merged dataset\n",
    "merged_df.head(2)\n"
   ]
  },
  {
   "cell_type": "code",
   "execution_count": 71,
   "id": "c765e8bd-4905-4465-8dc1-116c4fb87d1b",
   "metadata": {},
   "outputs": [],
   "source": [
    "import pandas as pd\n",
    "from sklearn.model_selection import train_test_split\n",
    "from sklearn.ensemble import RandomForestClassifier\n",
    "from sklearn.metrics import accuracy_score\n"
   ]
  },
  {
   "cell_type": "code",
   "execution_count": 73,
   "id": "6ef523d9-4d06-4fb0-892f-c5cd3b1f8a0c",
   "metadata": {},
   "outputs": [],
   "source": [
    "# Example data\n",
    "data = {\n",
    "    'Age': [25, 30, 45, 60, 23, 35, 50, 40, 28, 55],\n",
    "    'Income': [30000, 50000, 100000, 150000, 25000, 60000, 120000, 90000, 35000, 130000],\n",
    "    'Spending': [1500, 2500, 6000, 12000, 1200, 3000, 8000, 4000, 2200, 9000],\n",
    "    'Category': ['Silver', 'Gold', 'Platinum', 'Luxury', 'Silver', 'Gold', 'Platinum', 'Gold', 'Silver', 'Luxury']\n",
    "}\n"
   ]
  },
  {
   "cell_type": "code",
   "execution_count": 75,
   "id": "c689e50d-f7b4-4c33-b433-6b4286d85698",
   "metadata": {},
   "outputs": [
    {
     "name": "stdout",
     "output_type": "stream",
     "text": [
      "Accuracy: 100.00%\n",
      "Predicted Category for new customer: Silver\n"
     ]
    }
   ],
   "source": [
    "# Create DataFrame\n",
    "df = pd.DataFrame(data)\n",
    "\n",
    "# Features (independent variables)\n",
    "X = df[['Age', 'Income', 'Spending']]\n",
    "\n",
    "# Target (dependent variable)\n",
    "y = df['Category']\n",
    "\n",
    "# Split data into training and test sets\n",
    "X_train, X_test, y_train, y_test = train_test_split(X, y, test_size=0.2, random_state=42)\n",
    "\n",
    "# Initialize the model (RandomForestClassifier in this case)\n",
    "model = RandomForestClassifier(n_estimators=100, random_state=42)\n",
    "\n",
    "# Train the model\n",
    "model.fit(X_train, y_train)\n",
    "\n",
    "# Make predictions on the test set\n",
    "y_pred = model.predict(X_test)\n",
    "\n",
    "# Evaluate the model\n",
    "accuracy = accuracy_score(y_test, y_pred)\n",
    "print(f'Accuracy: {accuracy * 100:.2f}%')\n",
    "\n",
    "# Predict the category for a new customer\n",
    "new_customer = pd.DataFrame([[30, 45000, 2200]], columns=['Age', 'Income', 'Spending'])\n",
    "predicted_category = model.predict(new_customer)\n",
    "print(f'Predicted Category for new customer: {predicted_category[0]}')\n"
   ]
  },
  {
   "cell_type": "code",
   "execution_count": 79,
   "id": "405def42-7331-4235-a875-c047faecbfe9",
   "metadata": {},
   "outputs": [
    {
     "data": {
      "text/html": [
       "<div>\n",
       "<style scoped>\n",
       "    .dataframe tbody tr th:only-of-type {\n",
       "        vertical-align: middle;\n",
       "    }\n",
       "\n",
       "    .dataframe tbody tr th {\n",
       "        vertical-align: top;\n",
       "    }\n",
       "\n",
       "    .dataframe thead th {\n",
       "        text-align: right;\n",
       "    }\n",
       "</style>\n",
       "<table border=\"1\" class=\"dataframe\">\n",
       "  <thead>\n",
       "    <tr style=\"text-align: right;\">\n",
       "      <th></th>\n",
       "      <th>PID</th>\n",
       "      <th>POIs</th>\n",
       "      <th>PRIORITY_1</th>\n",
       "      <th>PRIORITY_2</th>\n",
       "      <th>PRIORITY_3</th>\n",
       "      <th>PRIORITY_4</th>\n",
       "      <th>PRIORITY_5</th>\n",
       "    </tr>\n",
       "  </thead>\n",
       "  <tbody>\n",
       "    <tr>\n",
       "      <th>0</th>\n",
       "      <td>POI1</td>\n",
       "      <td>AMBER PALACE</td>\n",
       "      <td>History and Culture</td>\n",
       "      <td>Museum</td>\n",
       "      <td>Local Experiences</td>\n",
       "      <td>Scenic</td>\n",
       "      <td>Adventure</td>\n",
       "    </tr>\n",
       "  </tbody>\n",
       "</table>\n",
       "</div>"
      ],
      "text/plain": [
       "    PID          POIs           PRIORITY_1 PRIORITY_2         PRIORITY_3  \\\n",
       "0  POI1  AMBER PALACE  History and Culture     Museum  Local Experiences   \n",
       "\n",
       "  PRIORITY_4 PRIORITY_5  \n",
       "0     Scenic  Adventure  "
      ]
     },
     "execution_count": 79,
     "metadata": {},
     "output_type": "execute_result"
    }
   ],
   "source": [
    "types_df = pd.read_csv('types.csv')\n",
    "types_df.head(1)"
   ]
  },
  {
   "cell_type": "code",
   "execution_count": 98,
   "id": "c7cc746f-e7d8-49dd-bacd-cae0af5f1c6e",
   "metadata": {},
   "outputs": [
    {
     "name": "stdout",
     "output_type": "stream",
     "text": [
      "         STATE       CITY       SIGHT SEEEN\n",
      "0    TAMILNADU    CHENNAI              OOTY\n",
      "1    KARNATAKA  BANGALORE  GATEWAY OF INDIA\n",
      "2  MAHARASHTRA     MUMBAI         TAJ HOTEL\n",
      "3        DELHI      DELHI          RED FORT\n"
     ]
    }
   ],
   "source": [
    "import pandas as pd\n",
    "\n",
    "# First dataset (merged_df) with columns like STATE, CITY, DAYS, NIGHT, etc.\n",
    "merged_df = pd.DataFrame({\n",
    "    'STATE': ['TAMILNADU', 'KARNATAKA', 'MAHARASHTRA', 'DELHI'],\n",
    "    'CITY': ['CHENNAI', 'BANGALORE', 'MUMBAI', 'DELHI'],\n",
    "    'DAYS': [5, 7, 3, 4],\n",
    "    'NIGHT': [2, 3, 1, 2],\n",
    "    'HOTEL PRICE': [200, 250, 150, 180],\n",
    "    'SIGHT SEEEN': ['OOTY', 'GATEWAY OF INDIA', 'TAJ HOTEL', 'RED FORT'],\n",
    "    'FOOD': ['Pizza', 'Tacos', 'BBQ', 'Seafood'],\n",
    "    'FOOD PRICE': [20, 15, 25, 30],\n",
    "    'SIGHT SEEN DISTANCE': [5, 10, 3, 4],\n",
    "    'PRICE': [500, 700, 300, 400]\n",
    "})\n",
    "\n",
    "# Second dataset with columns like PID, POIs, and PRIORITY_X columns\n",
    "second_df = pd.DataFrame({\n",
    "    'PID': [101, 102, 103, 104],\n",
    "    'CITY': ['CHENNAI', 'BANGALORE', 'MUMBAI', 'DELHI'],\n",
    "    'POIs': ['POI_A', 'POI_B', 'POI_C', 'POI_D'],\n",
    "    'PRIORITY_1': [1, 2, 3, 4],\n",
    "    'PRIORITY_2': [5, 6, 7, 8],\n",
    "    'PRIORITY_3': [9, 10, 11, 12],\n",
    "    'PRIORITY_4': [13, 14, 15, 16],\n",
    "    'PRIORITY_5': [17, 18, 19, 20]\n",
    "})\n",
    "\n",
    "# Merge the two datasets on the common column 'CITY'\n",
    "merged_final_df = pd.merge(merged_df, second_df, on='CITY', how='inner')  # 'inner' for matching rows only\n",
    "\n",
    "# Display the merged dataframe\n",
    "print(merged_final_df[['STATE', 'CITY', 'SIGHT SEEEN']])\n"
   ]
  },
  {
   "cell_type": "code",
   "execution_count": 104,
   "id": "8c092621-3e77-4a9f-8848-cff5993e01d4",
   "metadata": {},
   "outputs": [],
   "source": [
    "import pandas as pd\n",
    "import plotly.express as px"
   ]
  },
  {
   "cell_type": "code",
   "execution_count": 112,
   "id": "6aa65e68-bf1b-49c7-bb07-608a61b922a8",
   "metadata": {},
   "outputs": [
    {
     "data": {
      "application/vnd.plotly.v1+json": {
       "config": {
        "plotlyServerURL": "https://plot.ly"
       },
       "data": [
        {
         "branchvalues": "total",
         "customdata": [
          [
           "Gold"
          ],
          [
           "Silver"
          ],
          [
           "Platinum"
          ],
          [
           "Luxury"
          ],
          [
           "Gold"
          ],
          [
           "Luxury"
          ],
          [
           "Platinum"
          ],
          [
           "Silver"
          ],
          [
           "Platinum"
          ],
          [
           "Gold"
          ],
          [
           "Silver"
          ],
          [
           "Luxury"
          ]
         ],
         "domain": {
          "x": [
           0,
           1
          ],
          "y": [
           0,
           1
          ]
         },
         "hovertemplate": "labels=%{label}<br>PRICE=%{value}<br>parent=%{parent}<br>id=%{id}<br>TYPE=%{customdata[0]}<extra></extra>",
         "ids": [
          "KARNATAKA/BANGALORE/LAL BAGH",
          "MAHARASHTRA/MUMBAI/GATEWAY OF INDIA",
          "DELHI/DELHI/RED FORT",
          "TAMILNADU/CHENNAI/OOTY",
          "KARNATAKA/BANGALORE",
          "TAMILNADU/CHENNAI",
          "DELHI/DELHI",
          "MAHARASHTRA/MUMBAI",
          "DELHI",
          "KARNATAKA",
          "MAHARASHTRA",
          "TAMILNADU"
         ],
         "labels": [
          "LAL BAGH",
          "GATEWAY OF INDIA",
          "RED FORT",
          "OOTY",
          "BANGALORE",
          "CHENNAI",
          "DELHI",
          "MUMBAI",
          "DELHI",
          "KARNATAKA",
          "MAHARASHTRA",
          "TAMILNADU"
         ],
         "marker": {
          "colors": [
           "yellow",
           "lightgray",
           "silver",
           "blue",
           "yellow",
           "blue",
           "silver",
           "lightgray",
           "silver",
           "yellow",
           "lightgray",
           "blue"
          ]
         },
         "name": "",
         "parents": [
          "KARNATAKA/BANGALORE",
          "MAHARASHTRA/MUMBAI",
          "DELHI/DELHI",
          "TAMILNADU/CHENNAI",
          "KARNATAKA",
          "TAMILNADU",
          "DELHI",
          "MAHARASHTRA",
          "",
          "",
          "",
          ""
         ],
         "type": "treemap",
         "values": [
          700,
          300,
          400,
          500,
          700,
          500,
          400,
          300,
          400,
          700,
          300,
          500
         ]
        }
       ],
       "layout": {
        "autosize": true,
        "legend": {
         "tracegroupgap": 0
        },
        "template": {
         "data": {
          "bar": [
           {
            "error_x": {
             "color": "#2a3f5f"
            },
            "error_y": {
             "color": "#2a3f5f"
            },
            "marker": {
             "line": {
              "color": "#E5ECF6",
              "width": 0.5
             },
             "pattern": {
              "fillmode": "overlay",
              "size": 10,
              "solidity": 0.2
             }
            },
            "type": "bar"
           }
          ],
          "barpolar": [
           {
            "marker": {
             "line": {
              "color": "#E5ECF6",
              "width": 0.5
             },
             "pattern": {
              "fillmode": "overlay",
              "size": 10,
              "solidity": 0.2
             }
            },
            "type": "barpolar"
           }
          ],
          "carpet": [
           {
            "aaxis": {
             "endlinecolor": "#2a3f5f",
             "gridcolor": "white",
             "linecolor": "white",
             "minorgridcolor": "white",
             "startlinecolor": "#2a3f5f"
            },
            "baxis": {
             "endlinecolor": "#2a3f5f",
             "gridcolor": "white",
             "linecolor": "white",
             "minorgridcolor": "white",
             "startlinecolor": "#2a3f5f"
            },
            "type": "carpet"
           }
          ],
          "choropleth": [
           {
            "colorbar": {
             "outlinewidth": 0,
             "ticks": ""
            },
            "type": "choropleth"
           }
          ],
          "contour": [
           {
            "colorbar": {
             "outlinewidth": 0,
             "ticks": ""
            },
            "colorscale": [
             [
              0,
              "#0d0887"
             ],
             [
              0.1111111111111111,
              "#46039f"
             ],
             [
              0.2222222222222222,
              "#7201a8"
             ],
             [
              0.3333333333333333,
              "#9c179e"
             ],
             [
              0.4444444444444444,
              "#bd3786"
             ],
             [
              0.5555555555555556,
              "#d8576b"
             ],
             [
              0.6666666666666666,
              "#ed7953"
             ],
             [
              0.7777777777777778,
              "#fb9f3a"
             ],
             [
              0.8888888888888888,
              "#fdca26"
             ],
             [
              1,
              "#f0f921"
             ]
            ],
            "type": "contour"
           }
          ],
          "contourcarpet": [
           {
            "colorbar": {
             "outlinewidth": 0,
             "ticks": ""
            },
            "type": "contourcarpet"
           }
          ],
          "heatmap": [
           {
            "colorbar": {
             "outlinewidth": 0,
             "ticks": ""
            },
            "colorscale": [
             [
              0,
              "#0d0887"
             ],
             [
              0.1111111111111111,
              "#46039f"
             ],
             [
              0.2222222222222222,
              "#7201a8"
             ],
             [
              0.3333333333333333,
              "#9c179e"
             ],
             [
              0.4444444444444444,
              "#bd3786"
             ],
             [
              0.5555555555555556,
              "#d8576b"
             ],
             [
              0.6666666666666666,
              "#ed7953"
             ],
             [
              0.7777777777777778,
              "#fb9f3a"
             ],
             [
              0.8888888888888888,
              "#fdca26"
             ],
             [
              1,
              "#f0f921"
             ]
            ],
            "type": "heatmap"
           }
          ],
          "heatmapgl": [
           {
            "colorbar": {
             "outlinewidth": 0,
             "ticks": ""
            },
            "colorscale": [
             [
              0,
              "#0d0887"
             ],
             [
              0.1111111111111111,
              "#46039f"
             ],
             [
              0.2222222222222222,
              "#7201a8"
             ],
             [
              0.3333333333333333,
              "#9c179e"
             ],
             [
              0.4444444444444444,
              "#bd3786"
             ],
             [
              0.5555555555555556,
              "#d8576b"
             ],
             [
              0.6666666666666666,
              "#ed7953"
             ],
             [
              0.7777777777777778,
              "#fb9f3a"
             ],
             [
              0.8888888888888888,
              "#fdca26"
             ],
             [
              1,
              "#f0f921"
             ]
            ],
            "type": "heatmapgl"
           }
          ],
          "histogram": [
           {
            "marker": {
             "pattern": {
              "fillmode": "overlay",
              "size": 10,
              "solidity": 0.2
             }
            },
            "type": "histogram"
           }
          ],
          "histogram2d": [
           {
            "colorbar": {
             "outlinewidth": 0,
             "ticks": ""
            },
            "colorscale": [
             [
              0,
              "#0d0887"
             ],
             [
              0.1111111111111111,
              "#46039f"
             ],
             [
              0.2222222222222222,
              "#7201a8"
             ],
             [
              0.3333333333333333,
              "#9c179e"
             ],
             [
              0.4444444444444444,
              "#bd3786"
             ],
             [
              0.5555555555555556,
              "#d8576b"
             ],
             [
              0.6666666666666666,
              "#ed7953"
             ],
             [
              0.7777777777777778,
              "#fb9f3a"
             ],
             [
              0.8888888888888888,
              "#fdca26"
             ],
             [
              1,
              "#f0f921"
             ]
            ],
            "type": "histogram2d"
           }
          ],
          "histogram2dcontour": [
           {
            "colorbar": {
             "outlinewidth": 0,
             "ticks": ""
            },
            "colorscale": [
             [
              0,
              "#0d0887"
             ],
             [
              0.1111111111111111,
              "#46039f"
             ],
             [
              0.2222222222222222,
              "#7201a8"
             ],
             [
              0.3333333333333333,
              "#9c179e"
             ],
             [
              0.4444444444444444,
              "#bd3786"
             ],
             [
              0.5555555555555556,
              "#d8576b"
             ],
             [
              0.6666666666666666,
              "#ed7953"
             ],
             [
              0.7777777777777778,
              "#fb9f3a"
             ],
             [
              0.8888888888888888,
              "#fdca26"
             ],
             [
              1,
              "#f0f921"
             ]
            ],
            "type": "histogram2dcontour"
           }
          ],
          "mesh3d": [
           {
            "colorbar": {
             "outlinewidth": 0,
             "ticks": ""
            },
            "type": "mesh3d"
           }
          ],
          "parcoords": [
           {
            "line": {
             "colorbar": {
              "outlinewidth": 0,
              "ticks": ""
             }
            },
            "type": "parcoords"
           }
          ],
          "pie": [
           {
            "automargin": true,
            "type": "pie"
           }
          ],
          "scatter": [
           {
            "fillpattern": {
             "fillmode": "overlay",
             "size": 10,
             "solidity": 0.2
            },
            "type": "scatter"
           }
          ],
          "scatter3d": [
           {
            "line": {
             "colorbar": {
              "outlinewidth": 0,
              "ticks": ""
             }
            },
            "marker": {
             "colorbar": {
              "outlinewidth": 0,
              "ticks": ""
             }
            },
            "type": "scatter3d"
           }
          ],
          "scattercarpet": [
           {
            "marker": {
             "colorbar": {
              "outlinewidth": 0,
              "ticks": ""
             }
            },
            "type": "scattercarpet"
           }
          ],
          "scattergeo": [
           {
            "marker": {
             "colorbar": {
              "outlinewidth": 0,
              "ticks": ""
             }
            },
            "type": "scattergeo"
           }
          ],
          "scattergl": [
           {
            "marker": {
             "colorbar": {
              "outlinewidth": 0,
              "ticks": ""
             }
            },
            "type": "scattergl"
           }
          ],
          "scattermapbox": [
           {
            "marker": {
             "colorbar": {
              "outlinewidth": 0,
              "ticks": ""
             }
            },
            "type": "scattermapbox"
           }
          ],
          "scatterpolar": [
           {
            "marker": {
             "colorbar": {
              "outlinewidth": 0,
              "ticks": ""
             }
            },
            "type": "scatterpolar"
           }
          ],
          "scatterpolargl": [
           {
            "marker": {
             "colorbar": {
              "outlinewidth": 0,
              "ticks": ""
             }
            },
            "type": "scatterpolargl"
           }
          ],
          "scatterternary": [
           {
            "marker": {
             "colorbar": {
              "outlinewidth": 0,
              "ticks": ""
             }
            },
            "type": "scatterternary"
           }
          ],
          "surface": [
           {
            "colorbar": {
             "outlinewidth": 0,
             "ticks": ""
            },
            "colorscale": [
             [
              0,
              "#0d0887"
             ],
             [
              0.1111111111111111,
              "#46039f"
             ],
             [
              0.2222222222222222,
              "#7201a8"
             ],
             [
              0.3333333333333333,
              "#9c179e"
             ],
             [
              0.4444444444444444,
              "#bd3786"
             ],
             [
              0.5555555555555556,
              "#d8576b"
             ],
             [
              0.6666666666666666,
              "#ed7953"
             ],
             [
              0.7777777777777778,
              "#fb9f3a"
             ],
             [
              0.8888888888888888,
              "#fdca26"
             ],
             [
              1,
              "#f0f921"
             ]
            ],
            "type": "surface"
           }
          ],
          "table": [
           {
            "cells": {
             "fill": {
              "color": "#EBF0F8"
             },
             "line": {
              "color": "white"
             }
            },
            "header": {
             "fill": {
              "color": "#C8D4E3"
             },
             "line": {
              "color": "white"
             }
            },
            "type": "table"
           }
          ]
         },
         "layout": {
          "annotationdefaults": {
           "arrowcolor": "#2a3f5f",
           "arrowhead": 0,
           "arrowwidth": 1
          },
          "autotypenumbers": "strict",
          "coloraxis": {
           "colorbar": {
            "outlinewidth": 0,
            "ticks": ""
           }
          },
          "colorscale": {
           "diverging": [
            [
             0,
             "#8e0152"
            ],
            [
             0.1,
             "#c51b7d"
            ],
            [
             0.2,
             "#de77ae"
            ],
            [
             0.3,
             "#f1b6da"
            ],
            [
             0.4,
             "#fde0ef"
            ],
            [
             0.5,
             "#f7f7f7"
            ],
            [
             0.6,
             "#e6f5d0"
            ],
            [
             0.7,
             "#b8e186"
            ],
            [
             0.8,
             "#7fbc41"
            ],
            [
             0.9,
             "#4d9221"
            ],
            [
             1,
             "#276419"
            ]
           ],
           "sequential": [
            [
             0,
             "#0d0887"
            ],
            [
             0.1111111111111111,
             "#46039f"
            ],
            [
             0.2222222222222222,
             "#7201a8"
            ],
            [
             0.3333333333333333,
             "#9c179e"
            ],
            [
             0.4444444444444444,
             "#bd3786"
            ],
            [
             0.5555555555555556,
             "#d8576b"
            ],
            [
             0.6666666666666666,
             "#ed7953"
            ],
            [
             0.7777777777777778,
             "#fb9f3a"
            ],
            [
             0.8888888888888888,
             "#fdca26"
            ],
            [
             1,
             "#f0f921"
            ]
           ],
           "sequentialminus": [
            [
             0,
             "#0d0887"
            ],
            [
             0.1111111111111111,
             "#46039f"
            ],
            [
             0.2222222222222222,
             "#7201a8"
            ],
            [
             0.3333333333333333,
             "#9c179e"
            ],
            [
             0.4444444444444444,
             "#bd3786"
            ],
            [
             0.5555555555555556,
             "#d8576b"
            ],
            [
             0.6666666666666666,
             "#ed7953"
            ],
            [
             0.7777777777777778,
             "#fb9f3a"
            ],
            [
             0.8888888888888888,
             "#fdca26"
            ],
            [
             1,
             "#f0f921"
            ]
           ]
          },
          "colorway": [
           "#636efa",
           "#EF553B",
           "#00cc96",
           "#ab63fa",
           "#FFA15A",
           "#19d3f3",
           "#FF6692",
           "#B6E880",
           "#FF97FF",
           "#FECB52"
          ],
          "font": {
           "color": "#2a3f5f"
          },
          "geo": {
           "bgcolor": "white",
           "lakecolor": "white",
           "landcolor": "#E5ECF6",
           "showlakes": true,
           "showland": true,
           "subunitcolor": "white"
          },
          "hoverlabel": {
           "align": "left"
          },
          "hovermode": "closest",
          "mapbox": {
           "style": "light"
          },
          "paper_bgcolor": "white",
          "plot_bgcolor": "#E5ECF6",
          "polar": {
           "angularaxis": {
            "gridcolor": "white",
            "linecolor": "white",
            "ticks": ""
           },
           "bgcolor": "#E5ECF6",
           "radialaxis": {
            "gridcolor": "white",
            "linecolor": "white",
            "ticks": ""
           }
          },
          "scene": {
           "xaxis": {
            "backgroundcolor": "#E5ECF6",
            "gridcolor": "white",
            "gridwidth": 2,
            "linecolor": "white",
            "showbackground": true,
            "ticks": "",
            "zerolinecolor": "white"
           },
           "yaxis": {
            "backgroundcolor": "#E5ECF6",
            "gridcolor": "white",
            "gridwidth": 2,
            "linecolor": "white",
            "showbackground": true,
            "ticks": "",
            "zerolinecolor": "white"
           },
           "zaxis": {
            "backgroundcolor": "#E5ECF6",
            "gridcolor": "white",
            "gridwidth": 2,
            "linecolor": "white",
            "showbackground": true,
            "ticks": "",
            "zerolinecolor": "white"
           }
          },
          "shapedefaults": {
           "line": {
            "color": "#2a3f5f"
           }
          },
          "ternary": {
           "aaxis": {
            "gridcolor": "white",
            "linecolor": "white",
            "ticks": ""
           },
           "baxis": {
            "gridcolor": "white",
            "linecolor": "white",
            "ticks": ""
           },
           "bgcolor": "#E5ECF6",
           "caxis": {
            "gridcolor": "white",
            "linecolor": "white",
            "ticks": ""
           }
          },
          "title": {
           "x": 0.05
          },
          "xaxis": {
           "automargin": true,
           "gridcolor": "white",
           "linecolor": "white",
           "ticks": "",
           "title": {
            "standoff": 15
           },
           "zerolinecolor": "white",
           "zerolinewidth": 2
          },
          "yaxis": {
           "automargin": true,
           "gridcolor": "white",
           "linecolor": "white",
           "ticks": "",
           "title": {
            "standoff": 15
           },
           "zerolinecolor": "white",
           "zerolinewidth": 2
          }
         }
        },
        "title": {
         "text": "TreeMap of Indian States and Cities with Sightseeing Places"
        }
       }
      },
      "image/png": "[encoded data removed]",
      "text/html": [
       "<div>                            <div id=\"9387cac3-db62-4815-a36e-e5a768ac9b0f\" class=\"plotly-graph-div\" style=\"height:525px; width:100%;\"></div>            <script type=\"text/javascript\">                require([\"plotly\"], function(Plotly) {                    window.PLOTLYENV=window.PLOTLYENV || {};                                    if (document.getElementById(\"9387cac3-db62-4815-a36e-e5a768ac9b0f\")) {                    Plotly.newPlot(                        \"9387cac3-db62-4815-a36e-e5a768ac9b0f\",                        [{\"branchvalues\":\"total\",\"customdata\":[[\"Gold\"],[\"Silver\"],[\"Platinum\"],[\"Luxury\"],[\"Gold\"],[\"Luxury\"],[\"Platinum\"],[\"Silver\"],[\"Platinum\"],[\"Gold\"],[\"Silver\"],[\"Luxury\"]],\"domain\":{\"x\":[0.0,1.0],\"y\":[0.0,1.0]},\"hovertemplate\":\"labels=%{label}\\u003cbr\\u003ePRICE=%{value}\\u003cbr\\u003eparent=%{parent}\\u003cbr\\u003eid=%{id}\\u003cbr\\u003eTYPE=%{customdata[0]}\\u003cextra\\u003e\\u003c\\u002fextra\\u003e\",\"ids\":[\"KARNATAKA\\u002fBANGALORE\\u002fLAL BAGH\",\"MAHARASHTRA\\u002fMUMBAI\\u002fGATEWAY OF INDIA\",\"DELHI\\u002fDELHI\\u002fRED FORT\",\"TAMILNADU\\u002fCHENNAI\\u002fOOTY\",\"KARNATAKA\\u002fBANGALORE\",\"TAMILNADU\\u002fCHENNAI\",\"DELHI\\u002fDELHI\",\"MAHARASHTRA\\u002fMUMBAI\",\"DELHI\",\"KARNATAKA\",\"MAHARASHTRA\",\"TAMILNADU\"],\"labels\":[\"LAL BAGH\",\"GATEWAY OF INDIA\",\"RED FORT\",\"OOTY\",\"BANGALORE\",\"CHENNAI\",\"DELHI\",\"MUMBAI\",\"DELHI\",\"KARNATAKA\",\"MAHARASHTRA\",\"TAMILNADU\"],\"marker\":{\"colors\":[\"yellow\",\"lightgray\",\"silver\",\"blue\",\"yellow\",\"blue\",\"silver\",\"lightgray\",\"silver\",\"yellow\",\"lightgray\",\"blue\"]},\"name\":\"\",\"parents\":[\"KARNATAKA\\u002fBANGALORE\",\"MAHARASHTRA\\u002fMUMBAI\",\"DELHI\\u002fDELHI\",\"TAMILNADU\\u002fCHENNAI\",\"KARNATAKA\",\"TAMILNADU\",\"DELHI\",\"MAHARASHTRA\",\"\",\"\",\"\",\"\"],\"values\":[700,300,400,500,700,500,400,300,400,700,300,500],\"type\":\"treemap\"}],                        {\"template\":{\"data\":{\"histogram2dcontour\":[{\"type\":\"histogram2dcontour\",\"colorbar\":{\"outlinewidth\":0,\"ticks\":\"\"},\"colorscale\":[[0.0,\"#0d0887\"],[0.1111111111111111,\"#46039f\"],[0.2222222222222222,\"#7201a8\"],[0.3333333333333333,\"#9c179e\"],[0.4444444444444444,\"#bd3786\"],[0.5555555555555556,\"#d8576b\"],[0.6666666666666666,\"#ed7953\"],[0.7777777777777778,\"#fb9f3a\"],[0.8888888888888888,\"#fdca26\"],[1.0,\"#f0f921\"]]}],\"choropleth\":[{\"type\":\"choropleth\",\"colorbar\":{\"outlinewidth\":0,\"ticks\":\"\"}}],\"histogram2d\":[{\"type\":\"histogram2d\",\"colorbar\":{\"outlinewidth\":0,\"ticks\":\"\"},\"colorscale\":[[0.0,\"#0d0887\"],[0.1111111111111111,\"#46039f\"],[0.2222222222222222,\"#7201a8\"],[0.3333333333333333,\"#9c179e\"],[0.4444444444444444,\"#bd3786\"],[0.5555555555555556,\"#d8576b\"],[0.6666666666666666,\"#ed7953\"],[0.7777777777777778,\"#fb9f3a\"],[0.8888888888888888,\"#fdca26\"],[1.0,\"#f0f921\"]]}],\"heatmap\":[{\"type\":\"heatmap\",\"colorbar\":{\"outlinewidth\":0,\"ticks\":\"\"},\"colorscale\":[[0.0,\"#0d0887\"],[0.1111111111111111,\"#46039f\"],[0.2222222222222222,\"#7201a8\"],[0.3333333333333333,\"#9c179e\"],[0.4444444444444444,\"#bd3786\"],[0.5555555555555556,\"#d8576b\"],[0.6666666666666666,\"#ed7953\"],[0.7777777777777778,\"#fb9f3a\"],[0.8888888888888888,\"#fdca26\"],[1.0,\"#f0f921\"]]}],\"heatmapgl\":[{\"type\":\"heatmapgl\",\"colorbar\":{\"outlinewidth\":0,\"ticks\":\"\"},\"colorscale\":[[0.0,\"#0d0887\"],[0.1111111111111111,\"#46039f\"],[0.2222222222222222,\"#7201a8\"],[0.3333333333333333,\"#9c179e\"],[0.4444444444444444,\"#bd3786\"],[0.5555555555555556,\"#d8576b\"],[0.6666666666666666,\"#ed7953\"],[0.7777777777777778,\"#fb9f3a\"],[0.8888888888888888,\"#fdca26\"],[1.0,\"#f0f921\"]]}],\"contourcarpet\":[{\"type\":\"contourcarpet\",\"colorbar\":{\"outlinewidth\":0,\"ticks\":\"\"}}],\"contour\":[{\"type\":\"contour\",\"colorbar\":{\"outlinewidth\":0,\"ticks\":\"\"},\"colorscale\":[[0.0,\"#0d0887\"],[0.1111111111111111,\"#46039f\"],[0.2222222222222222,\"#7201a8\"],[0.3333333333333333,\"#9c179e\"],[0.4444444444444444,\"#bd3786\"],[0.5555555555555556,\"#d8576b\"],[0.6666666666666666,\"#ed7953\"],[0.7777777777777778,\"#fb9f3a\"],[0.8888888888888888,\"#fdca26\"],[1.0,\"#f0f921\"]]}],\"surface\":[{\"type\":\"surface\",\"colorbar\":{\"outlinewidth\":0,\"ticks\":\"\"},\"colorscale\":[[0.0,\"#0d0887\"],[0.1111111111111111,\"#46039f\"],[0.2222222222222222,\"#7201a8\"],[0.3333333333333333,\"#9c179e\"],[0.4444444444444444,\"#bd3786\"],[0.5555555555555556,\"#d8576b\"],[0.6666666666666666,\"#ed7953\"],[0.7777777777777778,\"#fb9f3a\"],[0.8888888888888888,\"#fdca26\"],[1.0,\"#f0f921\"]]}],\"mesh3d\":[{\"type\":\"mesh3d\",\"colorbar\":{\"outlinewidth\":0,\"ticks\":\"\"}}],\"scatter\":[{\"fillpattern\":{\"fillmode\":\"overlay\",\"size\":10,\"solidity\":0.2},\"type\":\"scatter\"}],\"parcoords\":[{\"type\":\"parcoords\",\"line\":{\"colorbar\":{\"outlinewidth\":0,\"ticks\":\"\"}}}],\"scatterpolargl\":[{\"type\":\"scatterpolargl\",\"marker\":{\"colorbar\":{\"outlinewidth\":0,\"ticks\":\"\"}}}],\"bar\":[{\"error_x\":{\"color\":\"#2a3f5f\"},\"error_y\":{\"color\":\"#2a3f5f\"},\"marker\":{\"line\":{\"color\":\"#E5ECF6\",\"width\":0.5},\"pattern\":{\"fillmode\":\"overlay\",\"size\":10,\"solidity\":0.2}},\"type\":\"bar\"}],\"scattergeo\":[{\"type\":\"scattergeo\",\"marker\":{\"colorbar\":{\"outlinewidth\":0,\"ticks\":\"\"}}}],\"scatterpolar\":[{\"type\":\"scatterpolar\",\"marker\":{\"colorbar\":{\"outlinewidth\":0,\"ticks\":\"\"}}}],\"histogram\":[{\"marker\":{\"pattern\":{\"fillmode\":\"overlay\",\"size\":10,\"solidity\":0.2}},\"type\":\"histogram\"}],\"scattergl\":[{\"type\":\"scattergl\",\"marker\":{\"colorbar\":{\"outlinewidth\":0,\"ticks\":\"\"}}}],\"scatter3d\":[{\"type\":\"scatter3d\",\"line\":{\"colorbar\":{\"outlinewidth\":0,\"ticks\":\"\"}},\"marker\":{\"colorbar\":{\"outlinewidth\":0,\"ticks\":\"\"}}}],\"scattermapbox\":[{\"type\":\"scattermapbox\",\"marker\":{\"colorbar\":{\"outlinewidth\":0,\"ticks\":\"\"}}}],\"scatterternary\":[{\"type\":\"scatterternary\",\"marker\":{\"colorbar\":{\"outlinewidth\":0,\"ticks\":\"\"}}}],\"scattercarpet\":[{\"type\":\"scattercarpet\",\"marker\":{\"colorbar\":{\"outlinewidth\":0,\"ticks\":\"\"}}}],\"carpet\":[{\"aaxis\":{\"endlinecolor\":\"#2a3f5f\",\"gridcolor\":\"white\",\"linecolor\":\"white\",\"minorgridcolor\":\"white\",\"startlinecolor\":\"#2a3f5f\"},\"baxis\":{\"endlinecolor\":\"#2a3f5f\",\"gridcolor\":\"white\",\"linecolor\":\"white\",\"minorgridcolor\":\"white\",\"startlinecolor\":\"#2a3f5f\"},\"type\":\"carpet\"}],\"table\":[{\"cells\":{\"fill\":{\"color\":\"#EBF0F8\"},\"line\":{\"color\":\"white\"}},\"header\":{\"fill\":{\"color\":\"#C8D4E3\"},\"line\":{\"color\":\"white\"}},\"type\":\"table\"}],\"barpolar\":[{\"marker\":{\"line\":{\"color\":\"#E5ECF6\",\"width\":0.5},\"pattern\":{\"fillmode\":\"overlay\",\"size\":10,\"solidity\":0.2}},\"type\":\"barpolar\"}],\"pie\":[{\"automargin\":true,\"type\":\"pie\"}]},\"layout\":{\"autotypenumbers\":\"strict\",\"colorway\":[\"#636efa\",\"#EF553B\",\"#00cc96\",\"#ab63fa\",\"#FFA15A\",\"#19d3f3\",\"#FF6692\",\"#B6E880\",\"#FF97FF\",\"#FECB52\"],\"font\":{\"color\":\"#2a3f5f\"},\"hovermode\":\"closest\",\"hoverlabel\":{\"align\":\"left\"},\"paper_bgcolor\":\"white\",\"plot_bgcolor\":\"#E5ECF6\",\"polar\":{\"bgcolor\":\"#E5ECF6\",\"angularaxis\":{\"gridcolor\":\"white\",\"linecolor\":\"white\",\"ticks\":\"\"},\"radialaxis\":{\"gridcolor\":\"white\",\"linecolor\":\"white\",\"ticks\":\"\"}},\"ternary\":{\"bgcolor\":\"#E5ECF6\",\"aaxis\":{\"gridcolor\":\"white\",\"linecolor\":\"white\",\"ticks\":\"\"},\"baxis\":{\"gridcolor\":\"white\",\"linecolor\":\"white\",\"ticks\":\"\"},\"caxis\":{\"gridcolor\":\"white\",\"linecolor\":\"white\",\"ticks\":\"\"}},\"coloraxis\":{\"colorbar\":{\"outlinewidth\":0,\"ticks\":\"\"}},\"colorscale\":{\"sequential\":[[0.0,\"#0d0887\"],[0.1111111111111111,\"#46039f\"],[0.2222222222222222,\"#7201a8\"],[0.3333333333333333,\"#9c179e\"],[0.4444444444444444,\"#bd3786\"],[0.5555555555555556,\"#d8576b\"],[0.6666666666666666,\"#ed7953\"],[0.7777777777777778,\"#fb9f3a\"],[0.8888888888888888,\"#fdca26\"],[1.0,\"#f0f921\"]],\"sequentialminus\":[[0.0,\"#0d0887\"],[0.1111111111111111,\"#46039f\"],[0.2222222222222222,\"#7201a8\"],[0.3333333333333333,\"#9c179e\"],[0.4444444444444444,\"#bd3786\"],[0.5555555555555556,\"#d8576b\"],[0.6666666666666666,\"#ed7953\"],[0.7777777777777778,\"#fb9f3a\"],[0.8888888888888888,\"#fdca26\"],[1.0,\"#f0f921\"]],\"diverging\":[[0,\"#8e0152\"],[0.1,\"#c51b7d\"],[0.2,\"#de77ae\"],[0.3,\"#f1b6da\"],[0.4,\"#fde0ef\"],[0.5,\"#f7f7f7\"],[0.6,\"#e6f5d0\"],[0.7,\"#b8e186\"],[0.8,\"#7fbc41\"],[0.9,\"#4d9221\"],[1,\"#276419\"]]},\"xaxis\":{\"gridcolor\":\"white\",\"linecolor\":\"white\",\"ticks\":\"\",\"title\":{\"standoff\":15},\"zerolinecolor\":\"white\",\"automargin\":true,\"zerolinewidth\":2},\"yaxis\":{\"gridcolor\":\"white\",\"linecolor\":\"white\",\"ticks\":\"\",\"title\":{\"standoff\":15},\"zerolinecolor\":\"white\",\"automargin\":true,\"zerolinewidth\":2},\"scene\":{\"xaxis\":{\"backgroundcolor\":\"#E5ECF6\",\"gridcolor\":\"white\",\"linecolor\":\"white\",\"showbackground\":true,\"ticks\":\"\",\"zerolinecolor\":\"white\",\"gridwidth\":2},\"yaxis\":{\"backgroundcolor\":\"#E5ECF6\",\"gridcolor\":\"white\",\"linecolor\":\"white\",\"showbackground\":true,\"ticks\":\"\",\"zerolinecolor\":\"white\",\"gridwidth\":2},\"zaxis\":{\"backgroundcolor\":\"#E5ECF6\",\"gridcolor\":\"white\",\"linecolor\":\"white\",\"showbackground\":true,\"ticks\":\"\",\"zerolinecolor\":\"white\",\"gridwidth\":2}},\"shapedefaults\":{\"line\":{\"color\":\"#2a3f5f\"}},\"annotationdefaults\":{\"arrowcolor\":\"#2a3f5f\",\"arrowhead\":0,\"arrowwidth\":1},\"geo\":{\"bgcolor\":\"white\",\"landcolor\":\"#E5ECF6\",\"subunitcolor\":\"white\",\"showland\":true,\"showlakes\":true,\"lakecolor\":\"white\"},\"title\":{\"x\":0.05},\"mapbox\":{\"style\":\"light\"}}},\"legend\":{\"tracegroupgap\":0},\"title\":{\"text\":\"TreeMap of Indian States and Cities with Sightseeing Places\"}},                        {\"responsive\": true}                    ).then(function(){\n",
       "                            \n",
       "var gd = document.getElementById('9387cac3-db62-4815-a36e-e5a768ac9b0f');\n",
       "var x = new MutationObserver(function (mutations, observer) {{\n",
       "        var display = window.getComputedStyle(gd).display;\n",
       "        if (!display || display === 'none') {{\n",
       "            console.log([gd, 'removed!']);\n",
       "            Plotly.purge(gd);\n",
       "            observer.disconnect();\n",
       "        }}\n",
       "}});\n",
       "\n",
       "// Listen for the removal of the full notebook cells\n",
       "var notebookContainer = gd.closest('#notebook-container');\n",
       "if (notebookContainer) {{\n",
       "    x.observe(notebookContainer, {childList: true});\n",
       "}}\n",
       "\n",
       "// Listen for the clearing of the current output cell\n",
       "var outputEl = gd.closest('.output');\n",
       "if (outputEl) {{\n",
       "    x.observe(outputEl, {childList: true});\n",
       "}}\n",
       "\n",
       "                        })                };                });            </script>        </div>"
      ]
     },
     "metadata": {},
     "output_type": "display_data"
    }
   ],
   "source": [
    "\n",
    "\n",
    "# Sample Data: Include types (Silver, Gold, Luxury, Platinum)\n",
    "data = {\n",
    "    'STATE': ['TAMILNADU', 'KARNATAKA', 'MAHARASHTRA', 'DELHI'],\n",
    "    'CITY': ['CHENNAI', 'BANGALORE', 'MUMBAI', 'DELHI'],\n",
    "    'SIGHT SEEEN': ['OOTY', 'LAL BAGH', 'GATEWAY OF INDIA', 'RED FORT'],\n",
    "    'TYPE': ['Luxury', 'Gold', 'Silver', 'Platinum'],  # Types like Silver, Gold, etc.\n",
    "    'PRICE': [500, 700, 300, 400]  # Example price for each place\n",
    "}\n",
    "\n",
    "# Create a DataFrame\n",
    "df = pd.DataFrame(data)\n",
    "\n",
    "# Create a TreeMap\n",
    "fig = px.treemap(df,\n",
    "                 path=['STATE', 'CITY', 'SIGHT SEEEN'],  # Hierarchical path\n",
    "                 values='PRICE',  # Use 'PRICE' to determine the size of each rectangle\n",
    "                 color='TYPE',  # Color based on TYPE (Silver, Gold, Luxury, Platinum)\n",
    "                 color_discrete_map={\n",
    "                     'Silver': 'lightgray',\n",
    "                     'Gold': 'yellow',\n",
    "                     'Luxury': 'blue',\n",
    "                     'Platinum': 'silver'\n",
    "                 },\n",
    "                 title='TreeMap of Indian States and Cities with Sightseeing Places')\n",
    "\n",
    "# Show the plot\n",
    "fig.show()\n"
   ]
  },
  {
   "cell_type": "code",
   "execution_count": null,
   "id": "49d5b355-272a-4c56-88e9-748b48832c3b",
   "metadata": {},
   "outputs": [],
   "source": [
    "import pandas as pd\n",
    "import numpy as np\n",
    "import re\n",
    "import matplotlib.pyplot as plt\n",
    "import seaborn as sns\n",
    "from sklearn.model_selection import train_test_split\n",
    "from sklearn.linear_model import LinearRegression\n",
    "from sklearn.metrics import mean_absolute_error\n",
    "from sklearn.preprocessing import LabelEncoder\n",
    "import warnings\n",
    "warnings.filterwarnings(\"ignore\")"
   ]
  },
  {
   "cell_type": "code",
   "execution_count": 1,
   "id": "433c1f9c-08cd-4527-992b-f9447ac6baa7",
   "metadata": {},
   "outputs": [],
   "source": [
    "\n",
    "# Load datasets\n",
    "datasets = {\n",
    "    \"Silver\": pd.read_excel(\"silver.xlsx\"),\n",
    "    \"Gold\": pd.read_excel(\"gold.xlsx\"),\n",
    "    \"Luxury\": pd.read_excel(\"luxury.xlsx\"),\n",
    "    \"Platinum\": pd.read_excel(\"platinum.xlsx\"),\n",
    "}\n",
    "\n",
    "# Standardize column names (strip spaces, convert to uppercase)\n",
    "for key in datasets:\n",
    "    datasets[key].columns = datasets[key].columns.str.strip().str.upper()\n",
    "\n",
    "# Function to extract numeric distance\n",
    "def extract_numeric_distance(value):\n",
    "    match = re.search(r\"(\\d+)\", str(value))\n",
    "    return int(match.group(1)) if match else np.nan\n",
    "\n",
    "# Merge all datasets into a single DataFrame\n",
    "all_packages = []\n",
    "for key, df in datasets.items():\n",
    "    df[\"PACKAGE\"] = key\n",
    "    if \"SIGHT SEEN DISTANCE\" in df.columns:\n",
    "        df[\"SIGHT SEEN DISTANCE\"] = df[\"SIGHT SEEN DISTANCE\"].apply(extract_numeric_distance)\n",
    "    all_packages.append(df)\n",
    "\n",
    "ml_df = pd.concat(all_packages, ignore_index=True)\n",
    "\n",
    "# Encode categorical variables\n",
    "if \"TRANSPORT\" in ml_df.columns:\n",
    "    le = LabelEncoder()\n",
    "    ml_df[\"TRANSPORT\"] = le.fit_transform(ml_df[\"TRANSPORT\"].astype(str))\n",
    "\n",
    "# Select features and target variable\n",
    "features = [\"DAYS\", \"NIGHT\", \"HOTEL PRICE\", \"FOOD PRICE\", \"TRANSPORT\", \"SIGHT SEEN DISTANCE\"]\n",
    "ml_df = ml_df[features + [\"PACKAGE\"]].dropna()\n",
    "\n",
    "X = ml_df[features]\n",
    "y = ml_df[\"HOTEL PRICE\"] + ml_df[\"FOOD PRICE\"]\n",
    "\n",
    "# Split data\n",
    "X_train, X_test, y_train, y_test = train_test_split(X, y, test_size=0.2, random_state=42)\n",
    "\n",
    "# Train model\n",
    "model = LinearRegression()\n",
    "model.fit(X_train, y_train)\n",
    "y_pred = model.predict(X_test)\n",
    "\n",
    "# Evaluate model\n",
    "mae = mean_absolute_error(y_test, y_pred)\n",
    "print(f\"Mean Absolute Error: {mae}\")\n"
   ]
  },
  {
   "cell_type": "code",
   "execution_count": 3,
   "id": "3603feda-d0e8-4446-8333-68fef619dacf",
   "metadata": {},
   "outputs": [
    {
     "name": "stdout",
     "output_type": "stream",
     "text": [
      "Mean Absolute Error: 7.958078640513122e-13\n"
     ]
    }
   ],
   "source": [
    "# Load datasets\n",
    "datasets = {\n",
    "    \"Silver\": pd.read_excel(\"silver.xlsx\"),\n",
    "    \"Gold\": pd.read_excel(\"gold.xlsx\"),\n",
    "    \"Luxury\": pd.read_excel(\"luxury.xlsx\"),\n",
    "    \"Platinum\": pd.read_excel(\"platinum.xlsx\"),\n",
    "}\n",
    "\n",
    "# Standardize column names (strip spaces, convert to uppercase)\n",
    "for key in datasets:\n",
    "    datasets[key].columns = datasets[key].columns.str.strip().str.upper()\n",
    "\n",
    "# Function to extract numeric distance\n",
    "def extract_numeric_distance(value):\n",
    "    match = re.search(r\"(\\d+)\", str(value))\n",
    "    return int(match.group(1)) if match else np.nan\n",
    "\n",
    "# Merge all datasets into a single DataFrame\n",
    "all_packages = []\n",
    "for key, df in datasets.items():\n",
    "    df[\"PACKAGE\"] = key\n",
    "    if \"SIGHT SEEN DISTANCE\" in df.columns:\n",
    "        df[\"SIGHT SEEN DISTANCE\"] = df[\"SIGHT SEEN DISTANCE\"].apply(extract_numeric_distance)\n",
    "    all_packages.append(df)\n",
    "\n",
    "ml_df = pd.concat(all_packages, ignore_index=True)\n",
    "\n",
    "# Encode categorical variables\n",
    "if \"TRANSPORT\" in ml_df.columns:\n",
    "    le = LabelEncoder()\n",
    "    ml_df[\"TRANSPORT\"] = le.fit_transform(ml_df[\"TRANSPORT\"].astype(str))\n",
    "\n",
    "# Select features and target variable\n",
    "features = [\"DAYS\", \"NIGHT\", \"HOTEL PRICE\", \"FOOD PRICE\", \"TRANSPORT\", \"SIGHT SEEN DISTANCE\"]\n",
    "ml_df = ml_df[features + [\"PACKAGE\"]].dropna()\n",
    "\n",
    "X = ml_df[features]\n",
    "y = ml_df[\"HOTEL PRICE\"] + ml_df[\"FOOD PRICE\"]\n",
    "\n",
    "# Split data\n",
    "X_train, X_test, y_train, y_test = train_test_split(X, y, test_size=0.2, random_state=42)\n",
    "\n",
    "# Train model\n",
    "model = LinearRegression()\n",
    "model.fit(X_train, y_train)\n",
    "y_pred = model.predict(X_test)\n",
    "\n",
    "# Evaluate model\n",
    "mae = mean_absolute_error(y_test, y_pred)\n",
    "print(f\"Mean Absolute Error: {mae}\")"
   ]
  },
  {
   "cell_type": "code",
   "execution_count": 2,
   "id": "55cf211f-96b8-4d31-af0c-a0134750bb9e",
   "metadata": {},
   "outputs": [
    {
     "name": "stdout",
     "output_type": "stream",
     "text": [
      "Mean Absolute Error: 7.958078640513122e-13\n"
     ]
    },
    {
     "name": "stderr",
     "output_type": "stream",
     "text": [
      "C:\\Users\\Welcome\\AppData\\Local\\Temp\\ipykernel_7716\\2461566014.py:55: FutureWarning: \n",
      "\n",
      "Passing `palette` without assigning `hue` is deprecated and will be removed in v0.14.0. Assign the `y` variable to `hue` and set `legend=False` for the same effect.\n",
      "\n",
      "  sns.barplot(x=feature_importance.values, y=feature_importance.index, palette=\"viridis\")\n"
     ]
    },
    {
     "data": {
      "image/png": "[encoded data removed]",
      "text/plain": [
       "<Figure size 1000x600 with 1 Axes>"
      ]
     },
     "metadata": {},
     "output_type": "display_data"
    },
    {
     "name": "stderr",
     "output_type": "stream",
     "text": [
      "C:\\Users\\Welcome\\AppData\\Local\\Temp\\ipykernel_7716\\2461566014.py:63: FutureWarning: \n",
      "\n",
      "Passing `palette` without assigning `hue` is deprecated and will be removed in v0.14.0. Assign the `x` variable to `hue` and set `legend=False` for the same effect.\n",
      "\n",
      "  sns.countplot(data=ml_df, x=\"PACKAGE\", palette=\"coolwarm\", order=[\"Silver\", \"Gold\", \"Luxury\", \"Platinum\"])\n"
     ]
    },
    {
     "data": {
      "image/png": "[encoded data removed]",
      "text/plain": [
       "<Figure size 1000x600 with 1 Axes>"
      ]
     },
     "metadata": {},
     "output_type": "display_data"
    }
   ],
   "source": [
    "\n",
    "\n",
    "\n",
    "# Feature importance visualization\n",
    "feature_importance = pd.Series(model.coef_, index=X.columns).sort_values(ascending=False)\n",
    "plt.figure(figsize=(10, 6))\n",
    "sns.barplot(x=feature_importance.values, y=feature_importance.index, palette=\"viridis\")\n",
    "plt.title(\"Feature Importance in Package Sales Prediction\")\n",
    "plt.xlabel(\"Coefficient Value (Impact on Sales)\")\n",
    "plt.ylabel(\"Features\")\n",
    "plt.show()\n",
    "\n",
    "# Visualizing package sales trends\n",
    "plt.figure(figsize=(10, 6))\n",
    "sns.countplot(data=ml_df, x=\"PACKAGE\", palette=\"coolwarm\", order=[\"Silver\", \"Gold\", \"Luxury\", \"Platinum\"])\n",
    "plt.title(\"Package Sales Trends\")\n",
    "plt.xlabel(\"Package Type\")\n",
    "plt.ylabel(\"Count of Sales\")\n",
    "plt.show()\n"
   ]
  },
  {
   "cell_type": "code",
   "execution_count": null,
   "id": "0911c623-4eb9-4f70-bee2-fef89a978407",
   "metadata": {},
   "outputs": [],
   "source": []
  },
  {
   "cell_type": "code",
   "execution_count": null,
   "id": "6feb9cd1-d014-47ef-a7e4-f8b8f9ff2e45",
   "metadata": {},
   "outputs": [],
   "source": []
  },
  {
   "cell_type": "code",
   "execution_count": null,
   "id": "dd4968cb-e03e-4f19-b28b-1a41ec48fe3f",
   "metadata": {},
   "outputs": [],
   "source": []
  },
  {
   "cell_type": "code",
   "execution_count": null,
   "id": "e578e789-6b95-4fec-a1c1-1ebdd9706d8d",
   "metadata": {},
   "outputs": [],
   "source": []
  }
 ],
 "metadata": {
  "kernelspec": {
   "display_name": "Python 3 (ipykernel)",
   "language": "python",
   "name": "python3"
  },
  "language_info": {
   "codemirror_mode": {
    "name": "ipython",
    "version": 3
   },
   "file_extension": ".py",
   "mimetype": "text/x-python",
   "name": "python",
   "nbconvert_exporter": "python",
   "pygments_lexer": "ipython3",
   "version": "3.12.7"
  }
 },
 "nbformat": 4,
 "nbformat_minor": 5
}
